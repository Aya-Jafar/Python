{
 "cells": [
  {
   "cell_type": "markdown",
   "id": "ee46291e",
   "metadata": {},
   "source": [
    "# Importing the needed libraries"
   ]
  },
  {
   "cell_type": "code",
   "execution_count": 1,
   "id": "7439589a",
   "metadata": {},
   "outputs": [],
   "source": [
    "import pandas as pd\n",
    "import numpy as np\n",
    "import matplotlib.pyplot as plt\n",
    "from sklearn.preprocessing import MinMaxScaler\n",
    "import seaborn as sns"
   ]
  },
  {
   "cell_type": "markdown",
   "id": "c28b50dc",
   "metadata": {},
   "source": [
    "# Reading & exploring the data-set"
   ]
  },
  {
   "cell_type": "code",
   "execution_count": 2,
   "id": "75e82e50",
   "metadata": {},
   "outputs": [
    {
     "data": {
      "text/html": [
       "<div>\n",
       "<style scoped>\n",
       "    .dataframe tbody tr th:only-of-type {\n",
       "        vertical-align: middle;\n",
       "    }\n",
       "\n",
       "    .dataframe tbody tr th {\n",
       "        vertical-align: top;\n",
       "    }\n",
       "\n",
       "    .dataframe thead th {\n",
       "        text-align: right;\n",
       "    }\n",
       "</style>\n",
       "<table border=\"1\" class=\"dataframe\">\n",
       "  <thead>\n",
       "    <tr style=\"text-align: right;\">\n",
       "      <th></th>\n",
       "      <th>Pregnancies</th>\n",
       "      <th>Glucose</th>\n",
       "      <th>BloodPressure</th>\n",
       "      <th>SkinThickness</th>\n",
       "      <th>Insulin</th>\n",
       "      <th>BMI</th>\n",
       "      <th>DiabetesPedigreeFunction</th>\n",
       "      <th>Age</th>\n",
       "      <th>Outcome</th>\n",
       "    </tr>\n",
       "  </thead>\n",
       "  <tbody>\n",
       "    <tr>\n",
       "      <th>0</th>\n",
       "      <td>6</td>\n",
       "      <td>148</td>\n",
       "      <td>72</td>\n",
       "      <td>35</td>\n",
       "      <td>0</td>\n",
       "      <td>33.6</td>\n",
       "      <td>0.627</td>\n",
       "      <td>50</td>\n",
       "      <td>1</td>\n",
       "    </tr>\n",
       "    <tr>\n",
       "      <th>1</th>\n",
       "      <td>1</td>\n",
       "      <td>85</td>\n",
       "      <td>66</td>\n",
       "      <td>29</td>\n",
       "      <td>0</td>\n",
       "      <td>26.6</td>\n",
       "      <td>0.351</td>\n",
       "      <td>31</td>\n",
       "      <td>0</td>\n",
       "    </tr>\n",
       "    <tr>\n",
       "      <th>2</th>\n",
       "      <td>8</td>\n",
       "      <td>183</td>\n",
       "      <td>64</td>\n",
       "      <td>0</td>\n",
       "      <td>0</td>\n",
       "      <td>23.3</td>\n",
       "      <td>0.672</td>\n",
       "      <td>32</td>\n",
       "      <td>1</td>\n",
       "    </tr>\n",
       "    <tr>\n",
       "      <th>3</th>\n",
       "      <td>1</td>\n",
       "      <td>89</td>\n",
       "      <td>66</td>\n",
       "      <td>23</td>\n",
       "      <td>94</td>\n",
       "      <td>28.1</td>\n",
       "      <td>0.167</td>\n",
       "      <td>21</td>\n",
       "      <td>0</td>\n",
       "    </tr>\n",
       "    <tr>\n",
       "      <th>4</th>\n",
       "      <td>0</td>\n",
       "      <td>137</td>\n",
       "      <td>40</td>\n",
       "      <td>35</td>\n",
       "      <td>168</td>\n",
       "      <td>43.1</td>\n",
       "      <td>2.288</td>\n",
       "      <td>33</td>\n",
       "      <td>1</td>\n",
       "    </tr>\n",
       "  </tbody>\n",
       "</table>\n",
       "</div>"
      ],
      "text/plain": [
       "   Pregnancies  Glucose  BloodPressure  SkinThickness  Insulin   BMI  \\\n",
       "0            6      148             72             35        0  33.6   \n",
       "1            1       85             66             29        0  26.6   \n",
       "2            8      183             64              0        0  23.3   \n",
       "3            1       89             66             23       94  28.1   \n",
       "4            0      137             40             35      168  43.1   \n",
       "\n",
       "   DiabetesPedigreeFunction  Age  Outcome  \n",
       "0                     0.627   50        1  \n",
       "1                     0.351   31        0  \n",
       "2                     0.672   32        1  \n",
       "3                     0.167   21        0  \n",
       "4                     2.288   33        1  "
      ]
     },
     "execution_count": 2,
     "metadata": {},
     "output_type": "execute_result"
    }
   ],
   "source": [
    "df = pd.read_csv('diabetes.csv')\n",
    "df[:5]"
   ]
  },
  {
   "cell_type": "markdown",
   "id": "d65b9aac",
   "metadata": {},
   "source": [
    "### This data-set is to predict weather a person has a diabetes or not based on  some medical measurements that affects on having a diabetes like Glucose,Insulin,BMI .. etc . \n",
    "\n",
    "### The data-set contains 768 row and 9 columns (features)\n"
   ]
  },
  {
   "cell_type": "code",
   "execution_count": 3,
   "id": "2084b222",
   "metadata": {},
   "outputs": [
    {
     "data": {
      "text/html": [
       "<div>\n",
       "<style scoped>\n",
       "    .dataframe tbody tr th:only-of-type {\n",
       "        vertical-align: middle;\n",
       "    }\n",
       "\n",
       "    .dataframe tbody tr th {\n",
       "        vertical-align: top;\n",
       "    }\n",
       "\n",
       "    .dataframe thead th {\n",
       "        text-align: right;\n",
       "    }\n",
       "</style>\n",
       "<table border=\"1\" class=\"dataframe\">\n",
       "  <thead>\n",
       "    <tr style=\"text-align: right;\">\n",
       "      <th></th>\n",
       "      <th>Pregnancies</th>\n",
       "      <th>Glucose</th>\n",
       "      <th>BloodPressure</th>\n",
       "      <th>SkinThickness</th>\n",
       "      <th>Insulin</th>\n",
       "      <th>BMI</th>\n",
       "      <th>DiabetesPedigreeFunction</th>\n",
       "      <th>Age</th>\n",
       "      <th>Outcome</th>\n",
       "    </tr>\n",
       "  </thead>\n",
       "  <tbody>\n",
       "    <tr>\n",
       "      <th>count</th>\n",
       "      <td>768.000000</td>\n",
       "      <td>768.000000</td>\n",
       "      <td>768.000000</td>\n",
       "      <td>768.000000</td>\n",
       "      <td>768.000000</td>\n",
       "      <td>768.000000</td>\n",
       "      <td>768.000000</td>\n",
       "      <td>768.000000</td>\n",
       "      <td>768.000000</td>\n",
       "    </tr>\n",
       "    <tr>\n",
       "      <th>mean</th>\n",
       "      <td>3.845052</td>\n",
       "      <td>120.894531</td>\n",
       "      <td>69.105469</td>\n",
       "      <td>20.536458</td>\n",
       "      <td>79.799479</td>\n",
       "      <td>31.992578</td>\n",
       "      <td>0.471876</td>\n",
       "      <td>33.240885</td>\n",
       "      <td>0.348958</td>\n",
       "    </tr>\n",
       "    <tr>\n",
       "      <th>std</th>\n",
       "      <td>3.369578</td>\n",
       "      <td>31.972618</td>\n",
       "      <td>19.355807</td>\n",
       "      <td>15.952218</td>\n",
       "      <td>115.244002</td>\n",
       "      <td>7.884160</td>\n",
       "      <td>0.331329</td>\n",
       "      <td>11.760232</td>\n",
       "      <td>0.476951</td>\n",
       "    </tr>\n",
       "    <tr>\n",
       "      <th>min</th>\n",
       "      <td>0.000000</td>\n",
       "      <td>0.000000</td>\n",
       "      <td>0.000000</td>\n",
       "      <td>0.000000</td>\n",
       "      <td>0.000000</td>\n",
       "      <td>0.000000</td>\n",
       "      <td>0.078000</td>\n",
       "      <td>21.000000</td>\n",
       "      <td>0.000000</td>\n",
       "    </tr>\n",
       "    <tr>\n",
       "      <th>25%</th>\n",
       "      <td>1.000000</td>\n",
       "      <td>99.000000</td>\n",
       "      <td>62.000000</td>\n",
       "      <td>0.000000</td>\n",
       "      <td>0.000000</td>\n",
       "      <td>27.300000</td>\n",
       "      <td>0.243750</td>\n",
       "      <td>24.000000</td>\n",
       "      <td>0.000000</td>\n",
       "    </tr>\n",
       "    <tr>\n",
       "      <th>50%</th>\n",
       "      <td>3.000000</td>\n",
       "      <td>117.000000</td>\n",
       "      <td>72.000000</td>\n",
       "      <td>23.000000</td>\n",
       "      <td>30.500000</td>\n",
       "      <td>32.000000</td>\n",
       "      <td>0.372500</td>\n",
       "      <td>29.000000</td>\n",
       "      <td>0.000000</td>\n",
       "    </tr>\n",
       "    <tr>\n",
       "      <th>75%</th>\n",
       "      <td>6.000000</td>\n",
       "      <td>140.250000</td>\n",
       "      <td>80.000000</td>\n",
       "      <td>32.000000</td>\n",
       "      <td>127.250000</td>\n",
       "      <td>36.600000</td>\n",
       "      <td>0.626250</td>\n",
       "      <td>41.000000</td>\n",
       "      <td>1.000000</td>\n",
       "    </tr>\n",
       "    <tr>\n",
       "      <th>max</th>\n",
       "      <td>17.000000</td>\n",
       "      <td>199.000000</td>\n",
       "      <td>122.000000</td>\n",
       "      <td>99.000000</td>\n",
       "      <td>846.000000</td>\n",
       "      <td>67.100000</td>\n",
       "      <td>2.420000</td>\n",
       "      <td>81.000000</td>\n",
       "      <td>1.000000</td>\n",
       "    </tr>\n",
       "  </tbody>\n",
       "</table>\n",
       "</div>"
      ],
      "text/plain": [
       "       Pregnancies     Glucose  BloodPressure  SkinThickness     Insulin  \\\n",
       "count   768.000000  768.000000     768.000000     768.000000  768.000000   \n",
       "mean      3.845052  120.894531      69.105469      20.536458   79.799479   \n",
       "std       3.369578   31.972618      19.355807      15.952218  115.244002   \n",
       "min       0.000000    0.000000       0.000000       0.000000    0.000000   \n",
       "25%       1.000000   99.000000      62.000000       0.000000    0.000000   \n",
       "50%       3.000000  117.000000      72.000000      23.000000   30.500000   \n",
       "75%       6.000000  140.250000      80.000000      32.000000  127.250000   \n",
       "max      17.000000  199.000000     122.000000      99.000000  846.000000   \n",
       "\n",
       "              BMI  DiabetesPedigreeFunction         Age     Outcome  \n",
       "count  768.000000                768.000000  768.000000  768.000000  \n",
       "mean    31.992578                  0.471876   33.240885    0.348958  \n",
       "std      7.884160                  0.331329   11.760232    0.476951  \n",
       "min      0.000000                  0.078000   21.000000    0.000000  \n",
       "25%     27.300000                  0.243750   24.000000    0.000000  \n",
       "50%     32.000000                  0.372500   29.000000    0.000000  \n",
       "75%     36.600000                  0.626250   41.000000    1.000000  \n",
       "max     67.100000                  2.420000   81.000000    1.000000  "
      ]
     },
     "execution_count": 3,
     "metadata": {},
     "output_type": "execute_result"
    }
   ],
   "source": [
    "df.describe()"
   ]
  },
  {
   "cell_type": "markdown",
   "id": "87bb79aa",
   "metadata": {},
   "source": [
    "# 1.Variable Data Types"
   ]
  },
  {
   "cell_type": "code",
   "execution_count": 5,
   "id": "6804670a",
   "metadata": {},
   "outputs": [
    {
     "data": {
      "text/plain": [
       "Pregnancies                   int64\n",
       "Glucose                       int64\n",
       "BloodPressure                 int64\n",
       "SkinThickness                 int64\n",
       "Insulin                       int64\n",
       "BMI                         float64\n",
       "DiabetesPedigreeFunction    float64\n",
       "Age                           int64\n",
       "Outcome                       int64\n",
       "dtype: object"
      ]
     },
     "execution_count": 5,
     "metadata": {},
     "output_type": "execute_result"
    }
   ],
   "source": [
    "df.dtypes"
   ]
  },
  {
   "cell_type": "markdown",
   "id": "aea02509",
   "metadata": {},
   "source": [
    "### All data types of the data-frame are numeric (float or integer)"
   ]
  },
  {
   "cell_type": "markdown",
   "id": "eb83dc17",
   "metadata": {},
   "source": [
    "# 2. Columns names"
   ]
  },
  {
   "cell_type": "code",
   "execution_count": 5,
   "id": "be5d6ac3",
   "metadata": {},
   "outputs": [
    {
     "data": {
      "text/plain": [
       "Index(['Pregnancies', 'Glucose', 'BloodPressure', 'SkinThickness', 'Insulin',\n",
       "       'BMI', 'DiabetesPedigreeFunction', 'Age', 'Outcome'],\n",
       "      dtype='object')"
      ]
     },
     "execution_count": 5,
     "metadata": {},
     "output_type": "execute_result"
    }
   ],
   "source": [
    "df.columns"
   ]
  },
  {
   "cell_type": "markdown",
   "id": "b02ae2d9",
   "metadata": {},
   "source": [
    "# 3. Check for Missing Values "
   ]
  },
  {
   "cell_type": "code",
   "execution_count": 138,
   "id": "76dd02a9",
   "metadata": {},
   "outputs": [
    {
     "data": {
      "text/plain": [
       "Pregnancies                 0\n",
       "Glucose                     0\n",
       "BloodPressure               0\n",
       "SkinThickness               0\n",
       "Insulin                     0\n",
       "BMI                         0\n",
       "DiabetesPedigreeFunction    0\n",
       "Age                         0\n",
       "Outcome                     0\n",
       "dtype: int64"
      ]
     },
     "execution_count": 138,
     "metadata": {},
     "output_type": "execute_result"
    }
   ],
   "source": [
    "df.isna().sum()"
   ]
  },
  {
   "cell_type": "markdown",
   "id": "5723f9bd",
   "metadata": {},
   "source": [
    "### No missing values in this data set but there's many data-point that has zero value which is consider as a bad data and needs imputing the same as missing data "
   ]
  },
  {
   "cell_type": "code",
   "execution_count": 6,
   "id": "e508d102",
   "metadata": {},
   "outputs": [
    {
     "data": {
      "text/plain": [
       "0      1\n",
       "1      0\n",
       "2      1\n",
       "3      0\n",
       "4      1\n",
       "      ..\n",
       "763    0\n",
       "764    0\n",
       "765    0\n",
       "766    1\n",
       "767    0\n",
       "Name: Outcome, Length: 768, dtype: int64"
      ]
     },
     "execution_count": 6,
     "metadata": {},
     "output_type": "execute_result"
    }
   ],
   "source": [
    "df.replace('?',np.nan,inplace=True)\n",
    "\n",
    "# Exclude  the target and the columns that is possible to have zero values \n",
    "# and replace the zero values with null to avoid considering it as an outlier\n",
    "\n",
    "df.loc[:, ~df.columns.isin(['Outcome', 'Pregnancies'])] = df.replace(0,np.nan) \n",
    "df2 = df.copy()\n",
    "df['Outcome']"
   ]
  },
  {
   "cell_type": "code",
   "execution_count": 7,
   "id": "05f51cdd",
   "metadata": {},
   "outputs": [
    {
     "data": {
      "text/plain": [
       "Pregnancies                   0\n",
       "Glucose                       5\n",
       "BloodPressure                35\n",
       "SkinThickness               227\n",
       "Insulin                     374\n",
       "BMI                          11\n",
       "DiabetesPedigreeFunction      0\n",
       "Age                           0\n",
       "Outcome                       0\n",
       "dtype: int64"
      ]
     },
     "execution_count": 7,
     "metadata": {},
     "output_type": "execute_result"
    }
   ],
   "source": [
    "df.isna().sum()"
   ]
  },
  {
   "cell_type": "markdown",
   "id": "59f7d26c",
   "metadata": {},
   "source": [
    "# 4. Check for Bad Data "
   ]
  },
  {
   "cell_type": "markdown",
   "id": "3f2d3926",
   "metadata": {},
   "source": [
    "### bad data may include :\n",
    "* outliers\n",
    "* duplicates\n",
    "* illegel values"
   ]
  },
  {
   "cell_type": "code",
   "execution_count": 141,
   "id": "7f98e97a",
   "metadata": {},
   "outputs": [
    {
     "data": {
      "text/plain": [
       "0"
      ]
     },
     "execution_count": 141,
     "metadata": {},
     "output_type": "execute_result"
    }
   ],
   "source": [
    "df.duplicated().sum()"
   ]
  },
  {
   "cell_type": "code",
   "execution_count": 8,
   "id": "5901144e",
   "metadata": {},
   "outputs": [],
   "source": [
    "def find_upper_and_lower_fence(dataset,feature):\n",
    "    Q1 = dataset[feature].quantile(0.25)\n",
    "    Q3 = dataset[feature].quantile(0.75)\n",
    "    IQR = Q3 - Q1\n",
    "    lower_fence = Q1 - (1.5 * IQR)\n",
    "    upper_fence = Q3 + (1.5 * IQR)\n",
    "    return [lower_fence,upper_fence]\n"
   ]
  },
  {
   "cell_type": "code",
   "execution_count": 9,
   "id": "8911928a",
   "metadata": {},
   "outputs": [
    {
     "name": "stdout",
     "output_type": "stream",
     "text": [
      "Glucose                       0\n"
     ]
    }
   ],
   "source": [
    "def find_outliers(df,feature,func):\n",
    "    lower,upper = func(df,feature)\n",
    "    outliers =  df[ (df[feature] < lower ) | (df[feature] > upper) ]\n",
    "    print(\"{:30}{}\".format(feature,outliers.shape[0]))\n",
    "\n",
    "find_outliers(df,'Glucose',find_upper_and_lower_fence)"
   ]
  },
  {
   "cell_type": "markdown",
   "id": "124044c4",
   "metadata": {},
   "source": [
    "### By knowing the number of outliers in our data frame, we can start to figure out which imputation method is better than the other\n",
    "\n",
    "### E.g : avoid using the mean with columns that have many outliers .. or vice versa"
   ]
  },
  {
   "cell_type": "code",
   "execution_count": 10,
   "id": "8cdb7a51",
   "metadata": {},
   "outputs": [
    {
     "name": "stdout",
     "output_type": "stream",
     "text": [
      "Feature name\t\tNumber of outliers\n",
      "\n",
      "Pregnancies                   4\n",
      "Glucose                       0\n",
      "BloodPressure                 14\n",
      "SkinThickness                 3\n",
      "Insulin                       24\n",
      "BMI                           8\n",
      "DiabetesPedigreeFunction      29\n",
      "Age                           9\n",
      "Outcome                       0\n"
     ]
    }
   ],
   "source": [
    "print('Feature name\\t\\tNumber of outliers\\n')\n",
    "for i in df.columns:\n",
    "    find_outliers(df,i,find_upper_and_lower_fence)"
   ]
  },
  {
   "cell_type": "code",
   "execution_count": 11,
   "id": "dcfa4ec5",
   "metadata": {},
   "outputs": [
    {
     "data": {
      "image/png": "[encoded data removed]",
      "text/plain": [
       "<Figure size 432x288 with 1 Axes>"
      ]
     },
     "metadata": {
      "needs_background": "light"
     },
     "output_type": "display_data"
    }
   ],
   "source": [
    "plt.boxplot(df['DiabetesPedigreeFunction'])\n",
    "plt.show()"
   ]
  },
  {
   "cell_type": "code",
   "execution_count": 12,
   "id": "4e20415a",
   "metadata": {},
   "outputs": [
    {
     "data": {
      "text/plain": [
       "Pregnancies                   0\n",
       "Glucose                       5\n",
       "BloodPressure                35\n",
       "SkinThickness               227\n",
       "Insulin                     374\n",
       "BMI                          11\n",
       "DiabetesPedigreeFunction      0\n",
       "Age                           0\n",
       "dtype: int64"
      ]
     },
     "execution_count": 12,
     "metadata": {},
     "output_type": "execute_result"
    }
   ],
   "source": [
    "df.isnull().sum()[:-1]"
   ]
  },
  {
   "cell_type": "code",
   "execution_count": 12,
   "id": "00f8cb3d",
   "metadata": {},
   "outputs": [
    {
     "data": {
      "text/plain": [
       "0"
      ]
     },
     "execution_count": 12,
     "metadata": {},
     "output_type": "execute_result"
    }
   ],
   "source": [
    "# drop rows with the least number of null values\n",
    "df.dropna(subset=['Glucose'],inplace=True)\n",
    "df['Glucose'].isna().sum()"
   ]
  },
  {
   "cell_type": "markdown",
   "id": "7d3893ef",
   "metadata": {},
   "source": [
    "# 5. Imputation "
   ]
  },
  {
   "cell_type": "code",
   "execution_count": 13,
   "id": "50d55736",
   "metadata": {},
   "outputs": [],
   "source": [
    "# use the mean for imputation in the column with least number of outliers \n",
    "\n",
    "df.loc[df['SkinThickness'].isnull()] = df['SkinThickness'].mean()"
   ]
  },
  {
   "cell_type": "code",
   "execution_count": 14,
   "id": "ae6013cf",
   "metadata": {},
   "outputs": [],
   "source": [
    "# use the median in the columns with more number of outliers\n",
    "\n",
    "df.loc[df['BloodPressure'].isnull()] = df['BloodPressure'].median()\n",
    "df.loc[df['Insulin'].isnull()] = df['Insulin'].median()"
   ]
  },
  {
   "cell_type": "code",
   "execution_count": 15,
   "id": "733357c9",
   "metadata": {},
   "outputs": [],
   "source": [
    "import random \n",
    "# By using the randint method, we can generate random integer to impute the missing value \n",
    "# the start and end is within the normal range of a specific column\n",
    "\n",
    "df.loc[df['BMI'].isnull()] = random.randint(17,30)"
   ]
  },
  {
   "cell_type": "code",
   "execution_count": 16,
   "id": "fd72c668",
   "metadata": {},
   "outputs": [
    {
     "data": {
      "text/plain": [
       "Pregnancies                 0\n",
       "Glucose                     0\n",
       "BloodPressure               0\n",
       "SkinThickness               0\n",
       "Insulin                     0\n",
       "BMI                         0\n",
       "DiabetesPedigreeFunction    0\n",
       "Age                         0\n",
       "dtype: int64"
      ]
     },
     "execution_count": 16,
     "metadata": {},
     "output_type": "execute_result"
    }
   ],
   "source": [
    "# Check if there's still zero values after imputing\n",
    "df.isna().sum()[:-1]"
   ]
  },
  {
   "cell_type": "markdown",
   "id": "d21ed05b",
   "metadata": {},
   "source": [
    "# Alternative and better way for imputation"
   ]
  },
  {
   "cell_type": "code",
   "execution_count": 88,
   "id": "01d914f5",
   "metadata": {},
   "outputs": [
    {
     "data": {
      "text/html": [
       "<div>\n",
       "<style scoped>\n",
       "    .dataframe tbody tr th:only-of-type {\n",
       "        vertical-align: middle;\n",
       "    }\n",
       "\n",
       "    .dataframe tbody tr th {\n",
       "        vertical-align: top;\n",
       "    }\n",
       "\n",
       "    .dataframe thead th {\n",
       "        text-align: right;\n",
       "    }\n",
       "</style>\n",
       "<table border=\"1\" class=\"dataframe\">\n",
       "  <thead>\n",
       "    <tr style=\"text-align: right;\">\n",
       "      <th></th>\n",
       "      <th>Pregnancies</th>\n",
       "      <th>Glucose</th>\n",
       "      <th>BloodPressure</th>\n",
       "      <th>SkinThickness</th>\n",
       "      <th>Insulin</th>\n",
       "      <th>BMI</th>\n",
       "      <th>DiabetesPedigreeFunction</th>\n",
       "      <th>Age</th>\n",
       "      <th>Outcome</th>\n",
       "    </tr>\n",
       "  </thead>\n",
       "  <tbody>\n",
       "    <tr>\n",
       "      <th>count</th>\n",
       "      <td>768.000000</td>\n",
       "      <td>768.000000</td>\n",
       "      <td>768.000000</td>\n",
       "      <td>768.000000</td>\n",
       "      <td>768.000000</td>\n",
       "      <td>768.000000</td>\n",
       "      <td>768.000000</td>\n",
       "      <td>768.000000</td>\n",
       "      <td>768.000000</td>\n",
       "    </tr>\n",
       "    <tr>\n",
       "      <th>mean</th>\n",
       "      <td>3.845052</td>\n",
       "      <td>121.598177</td>\n",
       "      <td>72.371354</td>\n",
       "      <td>29.114583</td>\n",
       "      <td>153.180208</td>\n",
       "      <td>32.427344</td>\n",
       "      <td>0.471876</td>\n",
       "      <td>33.240885</td>\n",
       "      <td>0.348958</td>\n",
       "    </tr>\n",
       "    <tr>\n",
       "      <th>std</th>\n",
       "      <td>3.369578</td>\n",
       "      <td>30.496543</td>\n",
       "      <td>12.206417</td>\n",
       "      <td>9.424100</td>\n",
       "      <td>98.385308</td>\n",
       "      <td>6.886588</td>\n",
       "      <td>0.331329</td>\n",
       "      <td>11.760232</td>\n",
       "      <td>0.476951</td>\n",
       "    </tr>\n",
       "    <tr>\n",
       "      <th>min</th>\n",
       "      <td>0.000000</td>\n",
       "      <td>44.000000</td>\n",
       "      <td>24.000000</td>\n",
       "      <td>7.000000</td>\n",
       "      <td>14.000000</td>\n",
       "      <td>18.200000</td>\n",
       "      <td>0.078000</td>\n",
       "      <td>21.000000</td>\n",
       "      <td>0.000000</td>\n",
       "    </tr>\n",
       "    <tr>\n",
       "      <th>25%</th>\n",
       "      <td>1.000000</td>\n",
       "      <td>99.000000</td>\n",
       "      <td>64.000000</td>\n",
       "      <td>23.000000</td>\n",
       "      <td>87.900000</td>\n",
       "      <td>27.500000</td>\n",
       "      <td>0.243750</td>\n",
       "      <td>24.000000</td>\n",
       "      <td>0.000000</td>\n",
       "    </tr>\n",
       "    <tr>\n",
       "      <th>50%</th>\n",
       "      <td>3.000000</td>\n",
       "      <td>117.000000</td>\n",
       "      <td>72.000000</td>\n",
       "      <td>29.000000</td>\n",
       "      <td>133.700000</td>\n",
       "      <td>32.090000</td>\n",
       "      <td>0.372500</td>\n",
       "      <td>29.000000</td>\n",
       "      <td>0.000000</td>\n",
       "    </tr>\n",
       "    <tr>\n",
       "      <th>75%</th>\n",
       "      <td>6.000000</td>\n",
       "      <td>140.250000</td>\n",
       "      <td>80.000000</td>\n",
       "      <td>35.000000</td>\n",
       "      <td>190.150000</td>\n",
       "      <td>36.600000</td>\n",
       "      <td>0.626250</td>\n",
       "      <td>41.000000</td>\n",
       "      <td>1.000000</td>\n",
       "    </tr>\n",
       "    <tr>\n",
       "      <th>max</th>\n",
       "      <td>17.000000</td>\n",
       "      <td>199.000000</td>\n",
       "      <td>122.000000</td>\n",
       "      <td>99.000000</td>\n",
       "      <td>846.000000</td>\n",
       "      <td>67.100000</td>\n",
       "      <td>2.420000</td>\n",
       "      <td>81.000000</td>\n",
       "      <td>1.000000</td>\n",
       "    </tr>\n",
       "  </tbody>\n",
       "</table>\n",
       "</div>"
      ],
      "text/plain": [
       "       Pregnancies     Glucose  BloodPressure  SkinThickness     Insulin  \\\n",
       "count   768.000000  768.000000     768.000000     768.000000  768.000000   \n",
       "mean      3.845052  121.598177      72.371354      29.114583  153.180208   \n",
       "std       3.369578   30.496543      12.206417       9.424100   98.385308   \n",
       "min       0.000000   44.000000      24.000000       7.000000   14.000000   \n",
       "25%       1.000000   99.000000      64.000000      23.000000   87.900000   \n",
       "50%       3.000000  117.000000      72.000000      29.000000  133.700000   \n",
       "75%       6.000000  140.250000      80.000000      35.000000  190.150000   \n",
       "max      17.000000  199.000000     122.000000      99.000000  846.000000   \n",
       "\n",
       "              BMI  DiabetesPedigreeFunction         Age     Outcome  \n",
       "count  768.000000                768.000000  768.000000  768.000000  \n",
       "mean    32.427344                  0.471876   33.240885    0.348958  \n",
       "std      6.886588                  0.331329   11.760232    0.476951  \n",
       "min     18.200000                  0.078000   21.000000    0.000000  \n",
       "25%     27.500000                  0.243750   24.000000    0.000000  \n",
       "50%     32.090000                  0.372500   29.000000    0.000000  \n",
       "75%     36.600000                  0.626250   41.000000    1.000000  \n",
       "max     67.100000                  2.420000   81.000000    1.000000  "
      ]
     },
     "execution_count": 88,
     "metadata": {},
     "output_type": "execute_result"
    }
   ],
   "source": [
    "# Using KNN imputer to fill null values instead of mean/median/mode\n",
    "\n",
    "from sklearn.impute import KNNImputer\n",
    "\n",
    "df_knn = df2.copy()\n",
    "knn_imputer=KNNImputer(n_neighbors=5)\n",
    "\n",
    "df_knn.iloc[:]=knn_imputer.fit_transform(df_knn)\n",
    "df_knn.describe()"
   ]
  },
  {
   "cell_type": "markdown",
   "id": "1f142456",
   "metadata": {},
   "source": [
    "### KNN Imputer use KNN model to fill the missing values using the mean value from n_neighbors nearest neighbors found in each column."
   ]
  },
  {
   "cell_type": "code",
   "execution_count": 89,
   "id": "217da8b8",
   "metadata": {},
   "outputs": [
    {
     "data": {
      "text/plain": [
       "Pregnancies                 0\n",
       "Glucose                     0\n",
       "BloodPressure               0\n",
       "SkinThickness               0\n",
       "Insulin                     0\n",
       "BMI                         0\n",
       "DiabetesPedigreeFunction    0\n",
       "Age                         0\n",
       "Outcome                     0\n",
       "dtype: int64"
      ]
     },
     "execution_count": 89,
     "metadata": {},
     "output_type": "execute_result"
    }
   ],
   "source": [
    "df_knn.isna().sum()"
   ]
  },
  {
   "cell_type": "markdown",
   "id": "83399d84",
   "metadata": {},
   "source": [
    "# 6. Scaling the data (needed?)"
   ]
  },
  {
   "cell_type": "markdown",
   "id": "50a3ffd1",
   "metadata": {},
   "source": [
    "### To know weather a specific column needs a scalling or not , we should first see the minimum and maximum values of each column"
   ]
  },
  {
   "cell_type": "code",
   "execution_count": 14,
   "id": "f6a6d766",
   "metadata": {},
   "outputs": [
    {
     "name": "stdout",
     "output_type": "stream",
     "text": [
      "Feature Name                             Min                              Max \n",
      "\n",
      "Pregnancies                               0                               17\n",
      "Glucose                                  44                              199\n",
      "BloodPressure                            24                              122\n",
      "SkinThickness                             7                               99\n",
      "Insulin                                  14                              846\n",
      "BMI                                      18                               67\n",
      "DiabetesPedigreeFunction                  0                                2\n",
      "Age                                      21                               81\n",
      "Outcome                                   0                                1\n"
     ]
    }
   ],
   "source": [
    "print(\"{:41}{:33}{}\".format(\"Feature Name\",\"Min\",\"Max\"),'\\n')\n",
    "for i in df_knn.columns:\n",
    "    print('{:30}{:13}{:33}'.format(i, int( (df_knn[i].min()) ) ,int( (df_knn[i].max()))) )"
   ]
  },
  {
   "cell_type": "code",
   "execution_count": 15,
   "id": "fbeaca7a",
   "metadata": {},
   "outputs": [
    {
     "data": {
      "text/plain": [
       "(14, 846)"
      ]
     },
     "execution_count": 15,
     "metadata": {},
     "output_type": "execute_result"
    }
   ],
   "source": [
    "int( (df_knn['Insulin'].min()) ) ,int( (df_knn['Insulin'].max())) "
   ]
  },
  {
   "cell_type": "markdown",
   "id": "38a2c0e3",
   "metadata": {},
   "source": [
    "### almost each feature has a high differance between the min and max values , So we have to scale our data-set"
   ]
  },
  {
   "cell_type": "code",
   "execution_count": 21,
   "id": "2a0661b8",
   "metadata": {},
   "outputs": [
    {
     "data": {
      "image/png": "[encoded data removed]",
      "text/plain": [
       "<Figure size 504x504 with 9 Axes>"
      ]
     },
     "metadata": {
      "needs_background": "light"
     },
     "output_type": "display_data"
    }
   ],
   "source": [
    "# Plot the data befor scalling\n",
    "df_knn.hist(figsize=(7,7))\n",
    "plt.show()"
   ]
  },
  {
   "cell_type": "code",
   "execution_count": 16,
   "id": "6ab5b67d",
   "metadata": {},
   "outputs": [
    {
     "data": {
      "text/html": [
       "<div>\n",
       "<style scoped>\n",
       "    .dataframe tbody tr th:only-of-type {\n",
       "        vertical-align: middle;\n",
       "    }\n",
       "\n",
       "    .dataframe tbody tr th {\n",
       "        vertical-align: top;\n",
       "    }\n",
       "\n",
       "    .dataframe thead th {\n",
       "        text-align: right;\n",
       "    }\n",
       "</style>\n",
       "<table border=\"1\" class=\"dataframe\">\n",
       "  <thead>\n",
       "    <tr style=\"text-align: right;\">\n",
       "      <th></th>\n",
       "      <th>Pregnancies</th>\n",
       "      <th>Glucose</th>\n",
       "      <th>BloodPressure</th>\n",
       "      <th>SkinThickness</th>\n",
       "      <th>Insulin</th>\n",
       "      <th>BMI</th>\n",
       "      <th>DiabetesPedigreeFunction</th>\n",
       "      <th>Age</th>\n",
       "      <th>Outcome</th>\n",
       "    </tr>\n",
       "  </thead>\n",
       "  <tbody>\n",
       "    <tr>\n",
       "      <th>0</th>\n",
       "      <td>0.352941</td>\n",
       "      <td>0.670968</td>\n",
       "      <td>0.489796</td>\n",
       "      <td>0.304348</td>\n",
       "      <td>0.186298</td>\n",
       "      <td>0.314928</td>\n",
       "      <td>0.234415</td>\n",
       "      <td>0.483333</td>\n",
       "      <td>1.0</td>\n",
       "    </tr>\n",
       "    <tr>\n",
       "      <th>1</th>\n",
       "      <td>0.058824</td>\n",
       "      <td>0.264516</td>\n",
       "      <td>0.428571</td>\n",
       "      <td>0.239130</td>\n",
       "      <td>0.053606</td>\n",
       "      <td>0.171779</td>\n",
       "      <td>0.116567</td>\n",
       "      <td>0.166667</td>\n",
       "      <td>0.0</td>\n",
       "    </tr>\n",
       "    <tr>\n",
       "      <th>2</th>\n",
       "      <td>0.470588</td>\n",
       "      <td>0.896774</td>\n",
       "      <td>0.408163</td>\n",
       "      <td>0.204348</td>\n",
       "      <td>0.181010</td>\n",
       "      <td>0.104294</td>\n",
       "      <td>0.253629</td>\n",
       "      <td>0.183333</td>\n",
       "      <td>1.0</td>\n",
       "    </tr>\n",
       "    <tr>\n",
       "      <th>3</th>\n",
       "      <td>0.058824</td>\n",
       "      <td>0.290323</td>\n",
       "      <td>0.428571</td>\n",
       "      <td>0.173913</td>\n",
       "      <td>0.096154</td>\n",
       "      <td>0.202454</td>\n",
       "      <td>0.038002</td>\n",
       "      <td>0.000000</td>\n",
       "      <td>0.0</td>\n",
       "    </tr>\n",
       "    <tr>\n",
       "      <th>4</th>\n",
       "      <td>0.000000</td>\n",
       "      <td>0.600000</td>\n",
       "      <td>0.163265</td>\n",
       "      <td>0.304348</td>\n",
       "      <td>0.185096</td>\n",
       "      <td>0.509202</td>\n",
       "      <td>0.943638</td>\n",
       "      <td>0.200000</td>\n",
       "      <td>1.0</td>\n",
       "    </tr>\n",
       "  </tbody>\n",
       "</table>\n",
       "</div>"
      ],
      "text/plain": [
       "   Pregnancies   Glucose  BloodPressure  SkinThickness   Insulin       BMI  \\\n",
       "0     0.352941  0.670968       0.489796       0.304348  0.186298  0.314928   \n",
       "1     0.058824  0.264516       0.428571       0.239130  0.053606  0.171779   \n",
       "2     0.470588  0.896774       0.408163       0.204348  0.181010  0.104294   \n",
       "3     0.058824  0.290323       0.428571       0.173913  0.096154  0.202454   \n",
       "4     0.000000  0.600000       0.163265       0.304348  0.185096  0.509202   \n",
       "\n",
       "   DiabetesPedigreeFunction       Age  Outcome  \n",
       "0                  0.234415  0.483333      1.0  \n",
       "1                  0.116567  0.166667      0.0  \n",
       "2                  0.253629  0.183333      1.0  \n",
       "3                  0.038002  0.000000      0.0  \n",
       "4                  0.943638  0.200000      1.0  "
      ]
     },
     "execution_count": 16,
     "metadata": {},
     "output_type": "execute_result"
    }
   ],
   "source": [
    "norm_scale = MinMaxScaler().fit_transform(df_knn)\n",
    "scaled_frame = pd.DataFrame(norm_scale,columns=df_knn.columns)\n",
    "scaled_frame.head()"
   ]
  },
  {
   "cell_type": "code",
   "execution_count": 23,
   "id": "f14ede57",
   "metadata": {},
   "outputs": [
    {
     "data": {
      "image/png": "[encoded data removed]",
      "text/plain": [
       "<Figure size 504x504 with 9 Axes>"
      ]
     },
     "metadata": {
      "needs_background": "light"
     },
     "output_type": "display_data"
    }
   ],
   "source": [
    "# Plot the data after scalling \n",
    "scaled_frame.hist(figsize=(7,7))\n",
    "plt.show()"
   ]
  },
  {
   "cell_type": "code",
   "execution_count": 17,
   "id": "cbf1b4c2",
   "metadata": {},
   "outputs": [],
   "source": [
    "df_knn = scaled_frame.copy()"
   ]
  },
  {
   "cell_type": "markdown",
   "id": "2b72388b",
   "metadata": {},
   "source": [
    "### Notice that the distribution of the data set stays the same after scalling , we've just change the range or the difference between the data points to be between 0-1 by using Min-Max scalling"
   ]
  },
  {
   "cell_type": "markdown",
   "id": "0887617f",
   "metadata": {},
   "source": [
    "# 8.Remove outliers"
   ]
  },
  {
   "cell_type": "code",
   "execution_count": 18,
   "id": "1479d911",
   "metadata": {},
   "outputs": [
    {
     "data": {
      "text/plain": [
       "(768, 9)"
      ]
     },
     "execution_count": 18,
     "metadata": {},
     "output_type": "execute_result"
    }
   ],
   "source": [
    "df_knn.shape"
   ]
  },
  {
   "cell_type": "code",
   "execution_count": 19,
   "id": "00c0719a",
   "metadata": {},
   "outputs": [
    {
     "data": {
      "text/plain": [
       "(662, 9)"
      ]
     },
     "execution_count": 19,
     "metadata": {},
     "output_type": "execute_result"
    }
   ],
   "source": [
    "for i in df_knn.columns:\n",
    "    lower,upper = find_upper_and_lower_fence(df_knn,i)\n",
    "    df_knn = df_knn[~((df_knn[i] < lower) | (df_knn[i] > upper ))]\n",
    "df_knn.shape"
   ]
  },
  {
   "cell_type": "markdown",
   "id": "52686596",
   "metadata": {},
   "source": [
    "# 9.Check for data Imbalance (Target variable: Outcome)"
   ]
  },
  {
   "cell_type": "code",
   "execution_count": 258,
   "id": "8fd22c49",
   "metadata": {},
   "outputs": [
    {
     "data": {
      "text/plain": [
       "0.0    500\n",
       "1.0    268\n",
       "Name: Outcome, dtype: int64"
      ]
     },
     "execution_count": 258,
     "metadata": {},
     "output_type": "execute_result"
    }
   ],
   "source": [
    "df_knn['Outcome'].value_counts()"
   ]
  },
  {
   "cell_type": "code",
   "execution_count": 259,
   "id": "b68b6db0",
   "metadata": {},
   "outputs": [
    {
     "data": {
      "image/png": "[encoded data removed]",
      "text/plain": [
       "<Figure size 360x360 with 1 Axes>"
      ]
     },
     "metadata": {},
     "output_type": "display_data"
    }
   ],
   "source": [
    "sns.set_theme(style=\"white\",palette=\"bright\")\n",
    "sns.displot(df['Outcome'])\n",
    "plt.show()"
   ]
  },
  {
   "cell_type": "markdown",
   "id": "98726cf2",
   "metadata": {},
   "source": [
    "### As the figure shows, the data-set has more people without carrying of the diabetes which makes the data imbalanced .. Imbalance data could effect the ML model to be biased towards the more frequent result\n",
    "\n",
    "### This issue could be solved by either oversampling the less frequent samples (diabetes carriers) or undersampling the more frequent samples"
   ]
  },
  {
   "cell_type": "markdown",
   "id": "6bee274a",
   "metadata": {},
   "source": [
    "# Handling imbalance dataset \n",
    "## Using imbalanced-learn library "
   ]
  },
  {
   "cell_type": "code",
   "execution_count": 3,
   "id": "a99f6195",
   "metadata": {},
   "outputs": [
    {
     "name": "stdout",
     "output_type": "stream",
     "text": [
      "Collecting package metadata (current_repodata.json): ...working... done\n",
      "Solving environment: ...working... done\n",
      "\n",
      "## Package Plan ##\n",
      "\n",
      "  environment location: E:\\ana\n",
      "\n",
      "  added / updated specs:\n",
      "    - imbalanced-learn\n",
      "\n",
      "\n",
      "The following NEW packages will be INSTALLED:\n",
      "\n",
      "  python_abi         conda-forge/win-64::python_abi-3.9-2_cp39\n",
      "\n",
      "The following packages will be UPDATED:\n",
      "\n",
      "  conda              pkgs/main::conda-4.13.0-py39haa95532_0 --> conda-forge::conda-4.13.0-py39hcbf5309_1\n",
      "\n",
      "\n",
      "Preparing transaction: ...working... done\n",
      "Verifying transaction: ...working... done\n",
      "Executing transaction: ...working... done\n",
      "\n",
      "Note: you may need to restart the kernel to use updated packages.\n"
     ]
    }
   ],
   "source": [
    "conda install -c conda-forge imbalanced-learn"
   ]
  },
  {
   "cell_type": "markdown",
   "id": "ede45314",
   "metadata": {},
   "source": [
    "## Oversampling "
   ]
  },
  {
   "cell_type": "code",
   "execution_count": 29,
   "id": "d7174f21",
   "metadata": {},
   "outputs": [],
   "source": [
    "from imblearn.over_sampling import RandomOverSampler"
   ]
  },
  {
   "cell_type": "code",
   "execution_count": 30,
   "id": "3c83a597",
   "metadata": {},
   "outputs": [
    {
     "data": {
      "text/plain": [
       "((662, 8), (662,))"
      ]
     },
     "execution_count": 30,
     "metadata": {},
     "output_type": "execute_result"
    }
   ],
   "source": [
    "X = df_knn.drop('Outcome',axis=1)\n",
    "y = df_knn['Outcome']\n",
    "X.shape , y.shape"
   ]
  },
  {
   "cell_type": "code",
   "execution_count": 31,
   "id": "0c1bbb65",
   "metadata": {},
   "outputs": [
    {
     "data": {
      "text/plain": [
       "((908, 8), (908,))"
      ]
     },
     "execution_count": 31,
     "metadata": {},
     "output_type": "execute_result"
    }
   ],
   "source": [
    "ros = RandomOverSampler(sampling_strategy=\"not majority\") \n",
    "\n",
    "X, y = ros.fit_resample(X, y)\n",
    "X.shape , y.shape"
   ]
  },
  {
   "cell_type": "code",
   "execution_count": 257,
   "id": "90c94924",
   "metadata": {},
   "outputs": [
    {
     "data": {
      "text/plain": [
       "1.0    454\n",
       "0.0    454\n",
       "Name: Outcome, dtype: int64"
      ]
     },
     "execution_count": 257,
     "metadata": {},
     "output_type": "execute_result"
    }
   ],
   "source": [
    "y.value_counts()"
   ]
  },
  {
   "cell_type": "code",
   "execution_count": 86,
   "id": "6f5a2414",
   "metadata": {},
   "outputs": [
    {
     "data": {
      "image/png": "[encoded data removed]",
      "text/plain": [
       "<Figure size 360x360 with 1 Axes>"
      ]
     },
     "metadata": {},
     "output_type": "display_data"
    }
   ],
   "source": [
    "sns.set_theme(style=\"white\",palette=\"bright\")\n",
    "sns.displot(y)\n",
    "plt.show()"
   ]
  },
  {
   "cell_type": "markdown",
   "id": "1f7e5f1a",
   "metadata": {},
   "source": [
    "# 10. Which independent variable has the highest correlation with outcome?"
   ]
  },
  {
   "cell_type": "code",
   "execution_count": 89,
   "id": "00092ad8",
   "metadata": {},
   "outputs": [
    {
     "data": {
      "text/plain": [
       "Index(['Pregnancies', 'Glucose', 'BloodPressure', 'SkinThickness', 'Insulin',\n",
       "       'BMI', 'DiabetesPedigreeFunction', 'Age', 'Outcome'],\n",
       "      dtype='object')"
      ]
     },
     "execution_count": 89,
     "metadata": {},
     "output_type": "execute_result"
    }
   ],
   "source": [
    "df_knn.columns"
   ]
  },
  {
   "cell_type": "code",
   "execution_count": 90,
   "id": "50880c8d",
   "metadata": {},
   "outputs": [
    {
     "name": "stdout",
     "output_type": "stream",
     "text": [
      "Pregnancies                   0.23884511920235546\n",
      "Glucose                       0.4937917431105724\n",
      "BloodPressure                 0.18365416130688197\n",
      "SkinThickness                 0.26546437648813187\n",
      "Insulin                       0.35627756903028673\n",
      "BMI                           0.277131711896035\n",
      "DiabetesPedigreeFunction      0.1683260824820096\n",
      "Age                           0.2876873783490705\n",
      "\n",
      "Highest correlation coeffeint with the target = 0.4937917431105724 for the Glucose column\n"
     ]
    }
   ],
   "source": [
    "c = {}\n",
    "for i in df_knn.columns[:-1]:\n",
    "    c[i] = df_knn[i].corr(df_knn['Outcome'])\n",
    "    \n",
    "[print(\"{:30}{}\".format(k,v)) for k,v in c.items()]\n",
    "\n",
    "print(f'\\nHighest correlation coeffeint with the target = {max(c.values())} for the {max(c,key=c.get)} column')"
   ]
  },
  {
   "cell_type": "code",
   "execution_count": 91,
   "id": "90beeed3",
   "metadata": {},
   "outputs": [
    {
     "data": {
      "text/html": [
       "<style type=\"text/css\">\n",
       "#T_efdba_row0_col0, #T_efdba_row1_col1, #T_efdba_row2_col2, #T_efdba_row3_col3, #T_efdba_row4_col4, #T_efdba_row5_col5, #T_efdba_row6_col6, #T_efdba_row7_col7, #T_efdba_row8_col8 {\n",
       "  background-color: #b40426;\n",
       "  color: #f1f1f1;\n",
       "}\n",
       "#T_efdba_row0_col1, #T_efdba_row0_col3, #T_efdba_row1_col6 {\n",
       "  background-color: #506bda;\n",
       "  color: #f1f1f1;\n",
       "}\n",
       "#T_efdba_row0_col2, #T_efdba_row8_col6 {\n",
       "  background-color: #7093f3;\n",
       "  color: #f1f1f1;\n",
       "}\n",
       "#T_efdba_row0_col4 {\n",
       "  background-color: #4055c8;\n",
       "  color: #f1f1f1;\n",
       "}\n",
       "#T_efdba_row0_col5, #T_efdba_row0_col6, #T_efdba_row6_col0, #T_efdba_row6_col1, #T_efdba_row6_col2, #T_efdba_row6_col3, #T_efdba_row6_col4, #T_efdba_row6_col7, #T_efdba_row6_col8 {\n",
       "  background-color: #3b4cc0;\n",
       "  color: #f1f1f1;\n",
       "}\n",
       "#T_efdba_row0_col7 {\n",
       "  background-color: #ead5c9;\n",
       "  color: #000000;\n",
       "}\n",
       "#T_efdba_row0_col8 {\n",
       "  background-color: #5470de;\n",
       "  color: #f1f1f1;\n",
       "}\n",
       "#T_efdba_row1_col0, #T_efdba_row3_col1 {\n",
       "  background-color: #6687ed;\n",
       "  color: #f1f1f1;\n",
       "}\n",
       "#T_efdba_row1_col2 {\n",
       "  background-color: #7ea1fa;\n",
       "  color: #f1f1f1;\n",
       "}\n",
       "#T_efdba_row1_col3 {\n",
       "  background-color: #5f7fe8;\n",
       "  color: #f1f1f1;\n",
       "}\n",
       "#T_efdba_row1_col4 {\n",
       "  background-color: #f2cab5;\n",
       "  color: #000000;\n",
       "}\n",
       "#T_efdba_row1_col5 {\n",
       "  background-color: #7295f4;\n",
       "  color: #f1f1f1;\n",
       "}\n",
       "#T_efdba_row1_col7 {\n",
       "  background-color: #85a8fc;\n",
       "  color: #f1f1f1;\n",
       "}\n",
       "#T_efdba_row1_col8 {\n",
       "  background-color: #bed2f6;\n",
       "  color: #000000;\n",
       "}\n",
       "#T_efdba_row2_col0, #T_efdba_row5_col4 {\n",
       "  background-color: #7da0f9;\n",
       "  color: #f1f1f1;\n",
       "}\n",
       "#T_efdba_row2_col1, #T_efdba_row4_col3 {\n",
       "  background-color: #779af7;\n",
       "  color: #f1f1f1;\n",
       "}\n",
       "#T_efdba_row2_col3, #T_efdba_row3_col0, #T_efdba_row5_col6 {\n",
       "  background-color: #6c8ff1;\n",
       "  color: #f1f1f1;\n",
       "}\n",
       "#T_efdba_row2_col4 {\n",
       "  background-color: #5875e1;\n",
       "  color: #f1f1f1;\n",
       "}\n",
       "#T_efdba_row2_col5, #T_efdba_row5_col2, #T_efdba_row8_col0 {\n",
       "  background-color: #89acfd;\n",
       "  color: #000000;\n",
       "}\n",
       "#T_efdba_row2_col6, #T_efdba_row5_col7 {\n",
       "  background-color: #485fd1;\n",
       "  color: #f1f1f1;\n",
       "}\n",
       "#T_efdba_row2_col7 {\n",
       "  background-color: #a7c5fe;\n",
       "  color: #000000;\n",
       "}\n",
       "#T_efdba_row2_col8 {\n",
       "  background-color: #3f53c6;\n",
       "  color: #f1f1f1;\n",
       "}\n",
       "#T_efdba_row3_col2 {\n",
       "  background-color: #7a9df8;\n",
       "  color: #f1f1f1;\n",
       "}\n",
       "#T_efdba_row3_col4 {\n",
       "  background-color: #7396f5;\n",
       "  color: #f1f1f1;\n",
       "}\n",
       "#T_efdba_row3_col5 {\n",
       "  background-color: #f6bfa6;\n",
       "  color: #000000;\n",
       "}\n",
       "#T_efdba_row3_col6 {\n",
       "  background-color: #5673e0;\n",
       "  color: #f1f1f1;\n",
       "}\n",
       "#T_efdba_row3_col7 {\n",
       "  background-color: #6282ea;\n",
       "  color: #f1f1f1;\n",
       "}\n",
       "#T_efdba_row3_col8, #T_efdba_row6_col5 {\n",
       "  background-color: #5e7de7;\n",
       "  color: #f1f1f1;\n",
       "}\n",
       "#T_efdba_row4_col0 {\n",
       "  background-color: #6180e9;\n",
       "  color: #f1f1f1;\n",
       "}\n",
       "#T_efdba_row4_col1 {\n",
       "  background-color: #f3c7b1;\n",
       "  color: #000000;\n",
       "}\n",
       "#T_efdba_row4_col2, #T_efdba_row5_col1 {\n",
       "  background-color: #6a8bef;\n",
       "  color: #f1f1f1;\n",
       "}\n",
       "#T_efdba_row4_col5 {\n",
       "  background-color: #8db0fe;\n",
       "  color: #000000;\n",
       "}\n",
       "#T_efdba_row4_col6 {\n",
       "  background-color: #5a78e4;\n",
       "  color: #f1f1f1;\n",
       "}\n",
       "#T_efdba_row4_col7 {\n",
       "  background-color: #8fb1fe;\n",
       "  color: #000000;\n",
       "}\n",
       "#T_efdba_row4_col8, #T_efdba_row7_col1, #T_efdba_row7_col4 {\n",
       "  background-color: #84a7fc;\n",
       "  color: #f1f1f1;\n",
       "}\n",
       "#T_efdba_row5_col0 {\n",
       "  background-color: #4961d2;\n",
       "  color: #f1f1f1;\n",
       "}\n",
       "#T_efdba_row5_col3 {\n",
       "  background-color: #f5c4ac;\n",
       "  color: #000000;\n",
       "}\n",
       "#T_efdba_row5_col8 {\n",
       "  background-color: #6384eb;\n",
       "  color: #f1f1f1;\n",
       "}\n",
       "#T_efdba_row7_col0 {\n",
       "  background-color: #efcfbf;\n",
       "  color: #000000;\n",
       "}\n",
       "#T_efdba_row7_col2 {\n",
       "  background-color: #adc9fd;\n",
       "  color: #000000;\n",
       "}\n",
       "#T_efdba_row7_col3 {\n",
       "  background-color: #5b7ae5;\n",
       "  color: #f1f1f1;\n",
       "}\n",
       "#T_efdba_row7_col5 {\n",
       "  background-color: #4e68d8;\n",
       "  color: #f1f1f1;\n",
       "}\n",
       "#T_efdba_row7_col6 {\n",
       "  background-color: #4f69d9;\n",
       "  color: #f1f1f1;\n",
       "}\n",
       "#T_efdba_row7_col8 {\n",
       "  background-color: #6788ee;\n",
       "  color: #f1f1f1;\n",
       "}\n",
       "#T_efdba_row8_col1 {\n",
       "  background-color: #d1dae9;\n",
       "  color: #000000;\n",
       "}\n",
       "#T_efdba_row8_col2 {\n",
       "  background-color: #688aef;\n",
       "  color: #f1f1f1;\n",
       "}\n",
       "#T_efdba_row8_col3 {\n",
       "  background-color: #799cf8;\n",
       "  color: #f1f1f1;\n",
       "}\n",
       "#T_efdba_row8_col4 {\n",
       "  background-color: #98b9ff;\n",
       "  color: #000000;\n",
       "}\n",
       "#T_efdba_row8_col5 {\n",
       "  background-color: #8badfd;\n",
       "  color: #000000;\n",
       "}\n",
       "#T_efdba_row8_col7 {\n",
       "  background-color: #88abfd;\n",
       "  color: #000000;\n",
       "}\n",
       "</style>\n",
       "<table id=\"T_efdba_\">\n",
       "  <thead>\n",
       "    <tr>\n",
       "      <th class=\"blank level0\" >&nbsp;</th>\n",
       "      <th class=\"col_heading level0 col0\" >Pregnancies</th>\n",
       "      <th class=\"col_heading level0 col1\" >Glucose</th>\n",
       "      <th class=\"col_heading level0 col2\" >BloodPressure</th>\n",
       "      <th class=\"col_heading level0 col3\" >SkinThickness</th>\n",
       "      <th class=\"col_heading level0 col4\" >Insulin</th>\n",
       "      <th class=\"col_heading level0 col5\" >BMI</th>\n",
       "      <th class=\"col_heading level0 col6\" >DiabetesPedigreeFunction</th>\n",
       "      <th class=\"col_heading level0 col7\" >Age</th>\n",
       "      <th class=\"col_heading level0 col8\" >Outcome</th>\n",
       "    </tr>\n",
       "  </thead>\n",
       "  <tbody>\n",
       "    <tr>\n",
       "      <th id=\"T_efdba_level0_row0\" class=\"row_heading level0 row0\" >Pregnancies</th>\n",
       "      <td id=\"T_efdba_row0_col0\" class=\"data row0 col0\" >1.000000</td>\n",
       "      <td id=\"T_efdba_row0_col1\" class=\"data row0 col1\" >0.136447</td>\n",
       "      <td id=\"T_efdba_row0_col2\" class=\"data row0 col2\" >0.204104</td>\n",
       "      <td id=\"T_efdba_row0_col3\" class=\"data row0 col3\" >0.154563</td>\n",
       "      <td id=\"T_efdba_row0_col4\" class=\"data row0 col4\" >0.120742</td>\n",
       "      <td id=\"T_efdba_row0_col5\" class=\"data row0 col5\" >0.045107</td>\n",
       "      <td id=\"T_efdba_row0_col6\" class=\"data row0 col6\" >-0.003451</td>\n",
       "      <td id=\"T_efdba_row0_col7\" class=\"data row0 col7\" >0.580161</td>\n",
       "      <td id=\"T_efdba_row0_col8\" class=\"data row0 col8\" >0.238845</td>\n",
       "    </tr>\n",
       "    <tr>\n",
       "      <th id=\"T_efdba_level0_row1\" class=\"row_heading level0 row1\" >Glucose</th>\n",
       "      <td id=\"T_efdba_row1_col0\" class=\"data row1 col0\" >0.136447</td>\n",
       "      <td id=\"T_efdba_row1_col1\" class=\"data row1 col1\" >1.000000</td>\n",
       "      <td id=\"T_efdba_row1_col2\" class=\"data row1 col2\" >0.242909</td>\n",
       "      <td id=\"T_efdba_row1_col3\" class=\"data row1 col3\" >0.196750</td>\n",
       "      <td id=\"T_efdba_row1_col4\" class=\"data row1 col4\" >0.642577</td>\n",
       "      <td id=\"T_efdba_row1_col5\" class=\"data row1 col5\" >0.209416</td>\n",
       "      <td id=\"T_efdba_row1_col6\" class=\"data row1 col6\" >0.067928</td>\n",
       "      <td id=\"T_efdba_row1_col7\" class=\"data row1 col7\" >0.278021</td>\n",
       "      <td id=\"T_efdba_row1_col8\" class=\"data row1 col8\" >0.493792</td>\n",
       "    </tr>\n",
       "    <tr>\n",
       "      <th id=\"T_efdba_level0_row2\" class=\"row_heading level0 row2\" >BloodPressure</th>\n",
       "      <td id=\"T_efdba_row2_col0\" class=\"data row2 col0\" >0.204104</td>\n",
       "      <td id=\"T_efdba_row2_col1\" class=\"data row2 col1\" >0.242909</td>\n",
       "      <td id=\"T_efdba_row2_col2\" class=\"data row2 col2\" >1.000000</td>\n",
       "      <td id=\"T_efdba_row2_col3\" class=\"data row2 col3\" >0.232342</td>\n",
       "      <td id=\"T_efdba_row2_col4\" class=\"data row2 col4\" >0.187592</td>\n",
       "      <td id=\"T_efdba_row2_col5\" class=\"data row2 col5\" >0.273480</td>\n",
       "      <td id=\"T_efdba_row2_col6\" class=\"data row2 col6\" >0.042823</td>\n",
       "      <td id=\"T_efdba_row2_col7\" class=\"data row2 col7\" >0.371648</td>\n",
       "      <td id=\"T_efdba_row2_col8\" class=\"data row2 col8\" >0.183654</td>\n",
       "    </tr>\n",
       "    <tr>\n",
       "      <th id=\"T_efdba_level0_row3\" class=\"row_heading level0 row3\" >SkinThickness</th>\n",
       "      <td id=\"T_efdba_row3_col0\" class=\"data row3 col0\" >0.154563</td>\n",
       "      <td id=\"T_efdba_row3_col1\" class=\"data row3 col1\" >0.196750</td>\n",
       "      <td id=\"T_efdba_row3_col2\" class=\"data row3 col2\" >0.232342</td>\n",
       "      <td id=\"T_efdba_row3_col3\" class=\"data row3 col3\" >1.000000</td>\n",
       "      <td id=\"T_efdba_row3_col4\" class=\"data row3 col4\" >0.259713</td>\n",
       "      <td id=\"T_efdba_row3_col5\" class=\"data row3 col5\" >0.659363</td>\n",
       "      <td id=\"T_efdba_row3_col6\" class=\"data row3 col6\" >0.088658</td>\n",
       "      <td id=\"T_efdba_row3_col7\" class=\"data row3 col7\" >0.184856</td>\n",
       "      <td id=\"T_efdba_row3_col8\" class=\"data row3 col8\" >0.265464</td>\n",
       "    </tr>\n",
       "    <tr>\n",
       "      <th id=\"T_efdba_level0_row4\" class=\"row_heading level0 row4\" >Insulin</th>\n",
       "      <td id=\"T_efdba_row4_col0\" class=\"data row4 col0\" >0.120742</td>\n",
       "      <td id=\"T_efdba_row4_col1\" class=\"data row4 col1\" >0.642577</td>\n",
       "      <td id=\"T_efdba_row4_col2\" class=\"data row4 col2\" >0.187592</td>\n",
       "      <td id=\"T_efdba_row4_col3\" class=\"data row4 col3\" >0.259713</td>\n",
       "      <td id=\"T_efdba_row4_col4\" class=\"data row4 col4\" >1.000000</td>\n",
       "      <td id=\"T_efdba_row4_col5\" class=\"data row4 col5\" >0.285416</td>\n",
       "      <td id=\"T_efdba_row4_col6\" class=\"data row4 col6\" >0.101592</td>\n",
       "      <td id=\"T_efdba_row4_col7\" class=\"data row4 col7\" >0.304004</td>\n",
       "      <td id=\"T_efdba_row4_col8\" class=\"data row4 col8\" >0.356278</td>\n",
       "    </tr>\n",
       "    <tr>\n",
       "      <th id=\"T_efdba_level0_row5\" class=\"row_heading level0 row5\" >BMI</th>\n",
       "      <td id=\"T_efdba_row5_col0\" class=\"data row5 col0\" >0.045107</td>\n",
       "      <td id=\"T_efdba_row5_col1\" class=\"data row5 col1\" >0.209416</td>\n",
       "      <td id=\"T_efdba_row5_col2\" class=\"data row5 col2\" >0.273480</td>\n",
       "      <td id=\"T_efdba_row5_col3\" class=\"data row5 col3\" >0.659363</td>\n",
       "      <td id=\"T_efdba_row5_col4\" class=\"data row5 col4\" >0.285416</td>\n",
       "      <td id=\"T_efdba_row5_col5\" class=\"data row5 col5\" >1.000000</td>\n",
       "      <td id=\"T_efdba_row5_col6\" class=\"data row5 col6\" >0.153893</td>\n",
       "      <td id=\"T_efdba_row5_col7\" class=\"data row5 col7\" >0.107619</td>\n",
       "      <td id=\"T_efdba_row5_col8\" class=\"data row5 col8\" >0.277132</td>\n",
       "    </tr>\n",
       "    <tr>\n",
       "      <th id=\"T_efdba_level0_row6\" class=\"row_heading level0 row6\" >DiabetesPedigreeFunction</th>\n",
       "      <td id=\"T_efdba_row6_col0\" class=\"data row6 col0\" >-0.003451</td>\n",
       "      <td id=\"T_efdba_row6_col1\" class=\"data row6 col1\" >0.067928</td>\n",
       "      <td id=\"T_efdba_row6_col2\" class=\"data row6 col2\" >0.042823</td>\n",
       "      <td id=\"T_efdba_row6_col3\" class=\"data row6 col3\" >0.088658</td>\n",
       "      <td id=\"T_efdba_row6_col4\" class=\"data row6 col4\" >0.101592</td>\n",
       "      <td id=\"T_efdba_row6_col5\" class=\"data row6 col5\" >0.153893</td>\n",
       "      <td id=\"T_efdba_row6_col6\" class=\"data row6 col6\" >1.000000</td>\n",
       "      <td id=\"T_efdba_row6_col7\" class=\"data row6 col7\" >0.064887</td>\n",
       "      <td id=\"T_efdba_row6_col8\" class=\"data row6 col8\" >0.168326</td>\n",
       "    </tr>\n",
       "    <tr>\n",
       "      <th id=\"T_efdba_level0_row7\" class=\"row_heading level0 row7\" >Age</th>\n",
       "      <td id=\"T_efdba_row7_col0\" class=\"data row7 col0\" >0.580161</td>\n",
       "      <td id=\"T_efdba_row7_col1\" class=\"data row7 col1\" >0.278021</td>\n",
       "      <td id=\"T_efdba_row7_col2\" class=\"data row7 col2\" >0.371648</td>\n",
       "      <td id=\"T_efdba_row7_col3\" class=\"data row7 col3\" >0.184856</td>\n",
       "      <td id=\"T_efdba_row7_col4\" class=\"data row7 col4\" >0.304004</td>\n",
       "      <td id=\"T_efdba_row7_col5\" class=\"data row7 col5\" >0.107619</td>\n",
       "      <td id=\"T_efdba_row7_col6\" class=\"data row7 col6\" >0.064887</td>\n",
       "      <td id=\"T_efdba_row7_col7\" class=\"data row7 col7\" >1.000000</td>\n",
       "      <td id=\"T_efdba_row7_col8\" class=\"data row7 col8\" >0.287687</td>\n",
       "    </tr>\n",
       "    <tr>\n",
       "      <th id=\"T_efdba_level0_row8\" class=\"row_heading level0 row8\" >Outcome</th>\n",
       "      <td id=\"T_efdba_row8_col0\" class=\"data row8 col0\" >0.238845</td>\n",
       "      <td id=\"T_efdba_row8_col1\" class=\"data row8 col1\" >0.493792</td>\n",
       "      <td id=\"T_efdba_row8_col2\" class=\"data row8 col2\" >0.183654</td>\n",
       "      <td id=\"T_efdba_row8_col3\" class=\"data row8 col3\" >0.265464</td>\n",
       "      <td id=\"T_efdba_row8_col4\" class=\"data row8 col4\" >0.356278</td>\n",
       "      <td id=\"T_efdba_row8_col5\" class=\"data row8 col5\" >0.277132</td>\n",
       "      <td id=\"T_efdba_row8_col6\" class=\"data row8 col6\" >0.168326</td>\n",
       "      <td id=\"T_efdba_row8_col7\" class=\"data row8 col7\" >0.287687</td>\n",
       "      <td id=\"T_efdba_row8_col8\" class=\"data row8 col8\" >1.000000</td>\n",
       "    </tr>\n",
       "  </tbody>\n",
       "</table>\n"
      ],
      "text/plain": [
       "<pandas.io.formats.style.Styler at 0x24a215acfd0>"
      ]
     },
     "execution_count": 91,
     "metadata": {},
     "output_type": "execute_result"
    }
   ],
   "source": [
    "# Plot the Correlation matrix \n",
    "corr = df_knn.corr()\n",
    "corr.style.background_gradient(cmap='coolwarm')"
   ]
  },
  {
   "cell_type": "markdown",
   "id": "5311f7a9",
   "metadata": {},
   "source": [
    "# Choosing a model for classification"
   ]
  },
  {
   "cell_type": "code",
   "execution_count": 260,
   "id": "a6d395fc",
   "metadata": {},
   "outputs": [],
   "source": [
    "from sklearn.metrics import accuracy_score, confusion_matrix\n",
    "from sklearn.model_selection import train_test_split"
   ]
  },
  {
   "cell_type": "code",
   "execution_count": 261,
   "id": "cf6cde4f",
   "metadata": {},
   "outputs": [
    {
     "name": "stdout",
     "output_type": "stream",
     "text": [
      "Train data size : (726, 8)\n",
      "Test data size : (182, 8)\n",
      "of a total data size: 908\n"
     ]
    }
   ],
   "source": [
    "# Split the dataset\n",
    "X_train, X_test, y_train, y_test = train_test_split(X, y, test_size=0.2, random_state=42)\n",
    "\n",
    "print(f\"Train data size : {X_train.shape}\\nTest data size : {X_test.shape}\\nof a total data size: {X_train.shape[0]+X_test.shape[0]}\")"
   ]
  },
  {
   "cell_type": "code",
   "execution_count": 262,
   "id": "bde3b846",
   "metadata": {},
   "outputs": [],
   "source": [
    "models = []\n",
    "accurecy = []\n",
    "error = []"
   ]
  },
  {
   "cell_type": "code",
   "execution_count": 263,
   "id": "84b4e0ab",
   "metadata": {},
   "outputs": [],
   "source": [
    "from sklearn.tree import DecisionTreeClassifier\n",
    "tree = DecisionTreeClassifier()\n",
    "models.append(tree)"
   ]
  },
  {
   "cell_type": "code",
   "execution_count": 264,
   "id": "5389c6ef",
   "metadata": {},
   "outputs": [],
   "source": [
    "from sklearn.svm import SVC\n",
    "svc = SVC()\n",
    "models.append(svc)"
   ]
  },
  {
   "cell_type": "code",
   "execution_count": 265,
   "id": "6ce68568",
   "metadata": {},
   "outputs": [],
   "source": [
    "from sklearn.neighbors import KNeighborsClassifier\n",
    "knn = KNeighborsClassifier()\n",
    "models.append(knn)"
   ]
  },
  {
   "cell_type": "code",
   "execution_count": 266,
   "id": "573da40a",
   "metadata": {},
   "outputs": [],
   "source": [
    "from sklearn.ensemble import RandomForestClassifier\n",
    "rfc = RandomForestClassifier()\n",
    "models.append(rfc)"
   ]
  },
  {
   "cell_type": "code",
   "execution_count": 267,
   "id": "31cec411",
   "metadata": {},
   "outputs": [],
   "source": [
    "from sklearn import metrics"
   ]
  },
  {
   "cell_type": "code",
   "execution_count": 268,
   "id": "ef137bcb",
   "metadata": {},
   "outputs": [
    {
     "data": {
      "text/html": [
       "<div>\n",
       "<style scoped>\n",
       "    .dataframe tbody tr th:only-of-type {\n",
       "        vertical-align: middle;\n",
       "    }\n",
       "\n",
       "    .dataframe tbody tr th {\n",
       "        vertical-align: top;\n",
       "    }\n",
       "\n",
       "    .dataframe thead th {\n",
       "        text-align: right;\n",
       "    }\n",
       "</style>\n",
       "<table border=\"1\" class=\"dataframe\">\n",
       "  <thead>\n",
       "    <tr style=\"text-align: right;\">\n",
       "      <th></th>\n",
       "      <th>Model</th>\n",
       "      <th>Accurecy</th>\n",
       "      <th>Mean squared error</th>\n",
       "    </tr>\n",
       "  </thead>\n",
       "  <tbody>\n",
       "    <tr>\n",
       "      <th>0</th>\n",
       "      <td>Decision Tree</td>\n",
       "      <td>0.829670</td>\n",
       "      <td>0.170330</td>\n",
       "    </tr>\n",
       "    <tr>\n",
       "      <th>1</th>\n",
       "      <td>SVC</td>\n",
       "      <td>0.802198</td>\n",
       "      <td>0.197802</td>\n",
       "    </tr>\n",
       "    <tr>\n",
       "      <th>2</th>\n",
       "      <td>KNN</td>\n",
       "      <td>0.813187</td>\n",
       "      <td>0.186813</td>\n",
       "    </tr>\n",
       "    <tr>\n",
       "      <th>3</th>\n",
       "      <td>Random Forest</td>\n",
       "      <td>0.901099</td>\n",
       "      <td>0.098901</td>\n",
       "    </tr>\n",
       "  </tbody>\n",
       "</table>\n",
       "</div>"
      ],
      "text/plain": [
       "           Model  Accurecy  Mean squared error\n",
       "0  Decision Tree  0.829670            0.170330\n",
       "1            SVC  0.802198            0.197802\n",
       "2            KNN  0.813187            0.186813\n",
       "3  Random Forest  0.901099            0.098901"
      ]
     },
     "execution_count": 268,
     "metadata": {},
     "output_type": "execute_result"
    }
   ],
   "source": [
    "for i in models:\n",
    "    i.fit(X_train, y_train)\n",
    "    y_pred = i.predict(X_test)\n",
    "    acc = accuracy_score(y_test, y_pred)\n",
    "    accurecy.append(acc)\n",
    "    error.append(metrics.mean_squared_error(y_test,y_pred))\n",
    "    \n",
    "result_df = pd.DataFrame({ \"Model\":['Decision Tree','SVC','KNN','Random Forest'],\"Accurecy\":accurecy,\"Mean squared error\":error })\n",
    "result_df"
   ]
  },
  {
   "cell_type": "code",
   "execution_count": 269,
   "id": "4dbe391d",
   "metadata": {},
   "outputs": [
    {
     "data": {
      "text/html": [
       "<div>\n",
       "<style scoped>\n",
       "    .dataframe tbody tr th:only-of-type {\n",
       "        vertical-align: middle;\n",
       "    }\n",
       "\n",
       "    .dataframe tbody tr th {\n",
       "        vertical-align: top;\n",
       "    }\n",
       "\n",
       "    .dataframe thead th {\n",
       "        text-align: right;\n",
       "    }\n",
       "</style>\n",
       "<table border=\"1\" class=\"dataframe\">\n",
       "  <thead>\n",
       "    <tr style=\"text-align: right;\">\n",
       "      <th></th>\n",
       "      <th>Model</th>\n",
       "      <th>Accurecy</th>\n",
       "      <th>Mean squared error</th>\n",
       "    </tr>\n",
       "  </thead>\n",
       "  <tbody>\n",
       "    <tr>\n",
       "      <th>3</th>\n",
       "      <td>Random Forest</td>\n",
       "      <td>0.901099</td>\n",
       "      <td>0.098901</td>\n",
       "    </tr>\n",
       "  </tbody>\n",
       "</table>\n",
       "</div>"
      ],
      "text/plain": [
       "           Model  Accurecy  Mean squared error\n",
       "3  Random Forest  0.901099            0.098901"
      ]
     },
     "execution_count": 269,
     "metadata": {},
     "output_type": "execute_result"
    }
   ],
   "source": [
    "# Select the best model\n",
    "result_df.loc[(result_df['Accurecy']==result_df['Accurecy'].max()) & \n",
    "              (result_df['Mean squared error']==result_df['Mean squared error'].min()) \n",
    "             ]"
   ]
  },
  {
   "cell_type": "code",
   "execution_count": null,
   "id": "a5ded319",
   "metadata": {},
   "outputs": [],
   "source": []
  }
 ],
 "metadata": {
  "kernelspec": {
   "display_name": "Python 3 (ipykernel)",
   "language": "python",
   "name": "python3"
  },
  "language_info": {
   "codemirror_mode": {
    "name": "ipython",
    "version": 3
   },
   "file_extension": ".py",
   "mimetype": "text/x-python",
   "name": "python",
   "nbconvert_exporter": "python",
   "pygments_lexer": "ipython3",
   "version": "3.9.7"
  }
 },
 "nbformat": 4,
 "nbformat_minor": 5
}
