{
  "nbformat": 4,
  "nbformat_minor": 0,
  "metadata": {
    "colab": {
      "name": "Decorators.ipynb",
      "provenance": [],
      "authorship_tag": "ABX9TyPBPXqI8vSrXcWT/Vep1Rot",
      "include_colab_link": true
    },
    "kernelspec": {
      "name": "python3",
      "display_name": "Python 3"
    },
    "language_info": {
      "name": "python"
    }
  },
  "cells": [
    {
      "cell_type": "markdown",
      "metadata": {
        "id": "view-in-github",
        "colab_type": "text"
      },
      "source": [
        "<a href=\"https://colab.research.google.com/github/Aya-Jafar/Python/blob/main/Decorators.ipynb\" target=\"_parent\"><img src=\"https://colab.research.google.com/assets/colab-badge.svg\" alt=\"Open In Colab\"/></a>"
      ]
    },
    {
      "cell_type": "markdown",
      "source": [
        "# Without Decorators"
      ],
      "metadata": {
        "id": "D7wol8Gfe1KA"
      }
    },
    {
      "cell_type": "code",
      "execution_count": 5,
      "metadata": {
        "id": "4A0yik5BLVSh",
        "outputId": "311031fc-db35-40b7-d32d-c6bc48a18434",
        "colab": {
          "base_uri": "https://localhost:8080/"
        }
      },
      "outputs": [
        {
          "output_type": "stream",
          "name": "stdout",
          "text": [
            "Inside Wrapper\n",
            "Hello from function argument\n",
            "End of Wrapper\n"
          ]
        }
      ],
      "source": [
        "def f1(func):\n",
        "  def wrapper():\n",
        "    print(\"Inside Wrapper\")\n",
        "    func()\n",
        "    print(\"End of Wrapper\")\n",
        "  return wrapper\n",
        "\n",
        "# Every time I call f2 , I want to call f1 too\n",
        "def f2():\n",
        "  print(\"Hello from function argument\")\n",
        "\n",
        "f1(f2)()"
      ]
    },
    {
      "cell_type": "markdown",
      "source": [
        "# With Decorators"
      ],
      "metadata": {
        "id": "4-z8940qe6MT"
      }
    },
    {
      "cell_type": "code",
      "source": [
        "def f1(func):\n",
        "  def wrapper():\n",
        "    print(\"Inside Wrapper\")\n",
        "    func()\n",
        "    print(\"End of Wrapper\")\n",
        "  return wrapper\n",
        "\n",
        "# Every time I call f2 , I want to call f1 too\n",
        "@f1\n",
        "def f2():\n",
        "  print(\"Hello from function argument\")\n",
        "\n",
        "f2()"
      ],
      "metadata": {
        "colab": {
          "base_uri": "https://localhost:8080/"
        },
        "id": "Pxd9u0EIe9Xp",
        "outputId": "34589c39-47b4-406b-fa44-adc123c56bd0"
      },
      "execution_count": 6,
      "outputs": [
        {
          "output_type": "stream",
          "name": "stdout",
          "text": [
            "Inside Wrapper\n",
            "Hello from function argument\n",
            "End of Wrapper\n"
          ]
        }
      ]
    },
    {
      "cell_type": "markdown",
      "source": [
        "# Decorators with parameter"
      ],
      "metadata": {
        "id": "e4tRGgbXfvZu"
      }
    },
    {
      "cell_type": "code",
      "source": [
        "def f1(func):\n",
        "  def wrapper(*args,**kwargs):\n",
        "    print(\"Inside Wrapper\")\n",
        "    func(*args,**kwargs)\n",
        "    print(\"End of Wrapper\")\n",
        "  return wrapper\n",
        "\n",
        "# Every time I call f2 , I want to call f1 too\n",
        "@f1\n",
        "def f2(name):\n",
        "  print(f\"Hello from function argument,{name}!\")\n",
        "\n",
        "f2(\"Aya\")"
      ],
      "metadata": {
        "colab": {
          "base_uri": "https://localhost:8080/"
        },
        "id": "xOYpDK05fzIb",
        "outputId": "0d8ad2de-0ca1-4563-ffbf-34e7d204b564"
      },
      "execution_count": 7,
      "outputs": [
        {
          "output_type": "stream",
          "name": "stdout",
          "text": [
            "Inside Wrapper\n",
            "Hello from function argument,Aya!\n",
            "End of Wrapper\n"
          ]
        }
      ]
    }
  ]
}