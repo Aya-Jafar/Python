{
 "cells": [
  {
   "cell_type": "code",
   "execution_count": 112,
   "id": "0cc701bd",
   "metadata": {},
   "outputs": [
    {
     "name": "stdout",
     "output_type": "stream",
     "text": [
      "Not a valid DNA sequence\n"
     ]
    },
    {
     "data": {
      "text/plain": [
       "False"
      ]
     },
     "execution_count": 112,
     "metadata": {},
     "output_type": "execute_result"
    }
   ],
   "source": [
    "# A helper methods to use in many tasks\n",
    "\n",
    "def validation(seq):\n",
    "    checker = False\n",
    "    for i in seq:\n",
    "        if i not in 'ATCG':\n",
    "            checker = False\n",
    "            print('Not a valid DNA sequence')\n",
    "            break\n",
    "        else:\n",
    "            checker = True\n",
    "    return checker\n",
    "\n",
    "validation('ATx')"
   ]
  },
  {
   "cell_type": "markdown",
   "id": "45bdd0a3",
   "metadata": {},
   "source": [
    "# Count  DNA Nucleotides\n"
   ]
  },
  {
   "cell_type": "code",
   "execution_count": 122,
   "id": "92a0e367",
   "metadata": {},
   "outputs": [
    {
     "data": {
      "text/plain": [
       "{'A': 1, 'C': 1, 'G': 0, 'T': 4}"
      ]
     },
     "execution_count": 122,
     "metadata": {},
     "output_type": "execute_result"
    }
   ],
   "source": [
    "def count_necleotides(seq):\n",
    "    nd_counter = {'A':0,'C':0,'G':0,'T':0}\n",
    "    if validation(seq): # if it returns True\n",
    "        for i in seq:\n",
    "            nd_counter[i] += 1\n",
    "        return nd_counter\n",
    "   \n",
    "count_necleotides(\"ACTTTT\")"
   ]
  },
  {
   "cell_type": "code",
   "execution_count": 123,
   "id": "e8512cb3",
   "metadata": {},
   "outputs": [
    {
     "name": "stdout",
     "output_type": "stream",
     "text": [
      "Not a valid DNA sequence\n"
     ]
    }
   ],
   "source": [
    "count_necleotides(\"ACTxTTT\")"
   ]
  },
  {
   "cell_type": "markdown",
   "id": "5ed5e508",
   "metadata": {},
   "source": [
    "# Transcribing DNA into RNA"
   ]
  },
  {
   "cell_type": "code",
   "execution_count": 129,
   "id": "6e90f16e",
   "metadata": {},
   "outputs": [
    {
     "name": "stdout",
     "output_type": "stream",
     "text": [
      "The sequence befor transcribing :\n",
      "ATCGTT\n",
      "The sequence after transcribing :\n",
      "AUCGUU\n"
     ]
    }
   ],
   "source": [
    "def transcribe(dna):\n",
    "    print(f'The sequence befor transcribing :\\n{dna}')\n",
    "    rna = ''\n",
    "    if validation(dna):\n",
    "        for i in dna:\n",
    "            if i == 'T':\n",
    "                rna+='U'\n",
    "            else:\n",
    "                rna+=i\n",
    "        print(f'The sequence after transcribing :\\n{rna}')\n",
    "\n",
    "transcribe(\"ATCGTT\")"
   ]
  },
  {
   "cell_type": "markdown",
   "id": "c51cad86",
   "metadata": {},
   "source": [
    "# Complementing a Strand of DNA"
   ]
  },
  {
   "cell_type": "code",
   "execution_count": 126,
   "id": "aced0dca",
   "metadata": {},
   "outputs": [
    {
     "name": "stdout",
     "output_type": "stream",
     "text": [
      "The complemantary strand is :\n",
      "CAGT \n"
     ]
    }
   ],
   "source": [
    "def make_complementary(original):\n",
    "    bases = {'A': 'T','T': 'A','G': 'C','C': 'G'}\n",
    "    complementary = ''\n",
    "    if validation(original): \n",
    "        for base in original:\n",
    "            complementary += bases.get(base)\n",
    "        print(f'The complemantary strand is :\\n{complementary[::-1]} ')\n",
    "\n",
    "make_complementary('ACTG')"
   ]
  },
  {
   "cell_type": "markdown",
   "id": "28aa984d",
   "metadata": {},
   "source": [
    "# Computing GC Content"
   ]
  },
  {
   "cell_type": "code",
   "execution_count": 105,
   "id": "f4ed1c1c",
   "metadata": {},
   "outputs": [
    {
     "name": "stdout",
     "output_type": "stream",
     "text": [
      "%CG = 62.5\n"
     ]
    }
   ],
   "source": [
    "def calculate_percent(seq):\n",
    "    if validation(seq): \n",
    "        percent = (seq.count('C')+seq.count('G'))/len(seq)*100\n",
    "        print(f'%CG = {percent}')\n",
    "\n",
    "calculate_percent('ACGTAGGC')"
   ]
  },
  {
   "cell_type": "markdown",
   "id": "d0d0220c",
   "metadata": {},
   "source": [
    "# Counting Point Mutations"
   ]
  },
  {
   "cell_type": "code",
   "execution_count": 104,
   "id": "b9abb3a7",
   "metadata": {},
   "outputs": [
    {
     "name": "stdout",
     "output_type": "stream",
     "text": [
      "Number of mutation = 5\n"
     ]
    }
   ],
   "source": [
    "def point_mutation(seq1,seq2):\n",
    "    mutation = 0\n",
    "    if validation(seq1) and validation(seq2):\n",
    "        for i,j in zip(seq1,seq2):\n",
    "            if i!=j :\n",
    "                mutation+=1\n",
    "        print(f'Number of mutation = {mutation}')\n",
    "    \n",
    "point_mutation('ACTGTTGGC','AGTCTGCT')"
   ]
  },
  {
   "cell_type": "markdown",
   "id": "0eb5da12",
   "metadata": {},
   "source": [
    "#  Finding a Motif in DNA"
   ]
  },
  {
   "cell_type": "code",
   "execution_count": 118,
   "id": "4d0ee1d7",
   "metadata": {},
   "outputs": [
    {
     "name": "stdout",
     "output_type": "stream",
     "text": [
      "Motifs start positions :\n"
     ]
    },
    {
     "data": {
      "text/plain": [
       "[3, 7]"
      ]
     },
     "execution_count": 118,
     "metadata": {},
     "output_type": "execute_result"
    }
   ],
   "source": [
    "def find_motif_position(seq,subseq):\n",
    "    positions = []\n",
    "    print('Motifs start positions :')\n",
    "    if validation(seq):\n",
    "        for i in range(len(seq)):\n",
    "            if seq[i:i+len(subseq)] == subseq:\n",
    "                positions.append(i+1)\n",
    "        return positions\n",
    "    \n",
    "find_motif_position('ACTGGATGG','TGG')"
   ]
  },
  {
   "cell_type": "markdown",
   "id": "791a92d5",
   "metadata": {},
   "source": [
    "# Translating RNA into Protein"
   ]
  },
  {
   "cell_type": "code",
   "execution_count": 119,
   "id": "430c2891",
   "metadata": {},
   "outputs": [],
   "source": [
    "# Another helper method to check the rna sequence befor translating it into protein\n",
    "\n",
    "def validation_rna(rna):\n",
    "    checker = False\n",
    "    for i in rna:\n",
    "        if i not in 'AUCG':\n",
    "            checker = False\n",
    "            print('Not a valid RNA sequence')\n",
    "            break\n",
    "        else:\n",
    "            checker = True\n",
    "    return checker"
   ]
  },
  {
   "cell_type": "code",
   "execution_count": 120,
   "id": "e484d029",
   "metadata": {},
   "outputs": [
    {
     "data": {
      "text/plain": [
       "'CPK'"
      ]
     },
     "execution_count": 120,
     "metadata": {},
     "output_type": "execute_result"
    }
   ],
   "source": [
    "def translation(rna):\n",
    "    codons_and_amino = {\n",
    "        'UUU': 'F',      'CUU': 'L',      \"AUU\": 'I',      \"GUU\": 'V',\n",
    "        'UUC': 'F',      'CUC': 'L',      'AUC': 'I',      'GUC': 'V',\n",
    "        'UUA': 'L',      'CUA': 'L',      'AUA': 'I',      'GUA': 'V',\n",
    "        'UUG': 'L',      'CUG': 'L',      'AUG': 'M',      'GUG': 'V',\n",
    "        'UCU': 'S',      'CCU': 'P',      'ACU': 'T',      'GCU': 'A',\n",
    "        'UCC': 'S',      'CCC': 'P',      'ACC': 'T',      'GCC': 'A',\n",
    "        'UCA': 'S',      'CCA': 'P',      'ACA': 'T',      'GCA': 'A',\n",
    "        'UCG': 'S',      'CCG': 'P',      'ACG': 'T',      'GCG': 'A',\n",
    "        'UAU': 'Y',      'CAU': 'H',      'AAU': 'N',      'GAU': 'D',\n",
    "        'UAC': 'Y',      'CAC': 'H',      'AAC': 'N',      'GAC': 'D',\n",
    "        'UAA': 'Stop',   'CAA': 'Q',      'AAA': 'K',      'GAA': 'E',\n",
    "        'UAG': 'Stop',   'CAG': 'Q',      'AAG': 'K',      'GAG': 'E',\n",
    "        'UGU': 'C',      'CGU': 'R',      'AGU': 'S',      'GGU': 'G',\n",
    "        'UGC': 'C',      'CGC': 'R',      'AGC': 'S',      'GGC': 'G',\n",
    "        'UGA': 'Stop',   'CGA': 'R',      'AGA': 'R',      'GGA': 'G',\n",
    "        'UGG': 'W',      'CGG': 'R',      'AGG': 'R',      'GGG': 'G'\n",
    "    }\n",
    "    protein = \"\"\n",
    "    if validation_rna(rna):\n",
    "        for i in range(0, len(rna), 3):\n",
    "            if rna[i:i+3] in codons_and_amino.keys():\n",
    "                protein += codons_and_amino.get(rna[i:i+3])\n",
    "        return protein.replace('Stop', '')\n",
    "\n",
    "translation('UGCCCCAAG')"
   ]
  }
 ],
 "metadata": {
  "kernelspec": {
   "display_name": "Python 3 (ipykernel)",
   "language": "python",
   "name": "python3"
  },
  "language_info": {
   "codemirror_mode": {
    "name": "ipython",
    "version": 3
   },
   "file_extension": ".py",
   "mimetype": "text/x-python",
   "name": "python",
   "nbconvert_exporter": "python",
   "pygments_lexer": "ipython3",
   "version": "3.9.7"
  }
 },
 "nbformat": 4,
 "nbformat_minor": 5
}
