{
  "cells": [
    {
      "cell_type": "markdown",
      "metadata": {
        "id": "view-in-github",
        "colab_type": "text"
      },
      "source": [
        "<a href=\"https://colab.research.google.com/github/Aya-Jafar/Python/blob/main/Bioinformatics/DNA-Matrix.ipynb\" target=\"_parent\"><img src=\"https://colab.research.google.com/assets/colab-badge.svg\" alt=\"Open In Colab\"/></a>"
      ]
    },
    {
      "cell_type": "code",
      "execution_count": 2,
      "id": "ba951bd4",
      "metadata": {
        "id": "ba951bd4"
      },
      "outputs": [],
      "source": [
        "import math\n",
        "import numpy as np"
      ]
    },
    {
      "cell_type": "code",
      "execution_count": 3,
      "id": "bd2d8ea8",
      "metadata": {
        "id": "bd2d8ea8"
      },
      "outputs": [],
      "source": [
        "# Input sequences \n",
        "seqs = np.array([  \n",
        "        list('GAGGTAAAC'),\n",
        "        list('TCCGTAAGT'),\n",
        "        list('CAGGTTGGA'),\n",
        "        list('ACAGTCAGT'),\n",
        "        list('TAGGTCATT'),\n",
        "        list('TAGGTACTG'),\n",
        "        list('ATGGTAACT'),\n",
        "        list('CAGGTATAC'),\n",
        "        list('TGTGTGAGT'),\n",
        "        list('AAGGTAAGT')\n",
        "       ])"
      ]
    },
    {
      "cell_type": "code",
      "execution_count": 4,
      "id": "f424e1c7",
      "metadata": {
        "colab": {
          "base_uri": "https://localhost:8080/"
        },
        "id": "f424e1c7",
        "outputId": "98a19c35-3537-4594-be88-ef7b6091735c"
      },
      "outputs": [
        {
          "output_type": "stream",
          "name": "stdout",
          "text": [
            "Column 1 ['G', 'T', 'C', 'A', 'T', 'T', 'A', 'C', 'T', 'A']\n",
            "Column 2 ['A', 'C', 'A', 'C', 'A', 'A', 'T', 'A', 'G', 'A']\n",
            "Column 3 ['G', 'C', 'G', 'A', 'G', 'G', 'G', 'G', 'T', 'G']\n",
            "Column 4 ['G', 'G', 'G', 'G', 'G', 'G', 'G', 'G', 'G', 'G']\n",
            "Column 5 ['T', 'T', 'T', 'T', 'T', 'T', 'T', 'T', 'T', 'T']\n",
            "Column 6 ['A', 'A', 'T', 'C', 'C', 'A', 'A', 'A', 'G', 'A']\n",
            "Column 7 ['A', 'A', 'G', 'A', 'A', 'C', 'A', 'T', 'A', 'A']\n",
            "Column 8 ['A', 'G', 'G', 'G', 'T', 'T', 'C', 'A', 'G', 'G']\n",
            "Column 9 ['C', 'T', 'A', 'T', 'T', 'G', 'T', 'C', 'T', 'T']\n"
          ]
        }
      ],
      "source": [
        "i = 0 \n",
        "col_seq = []\n",
        "# iterate through each column in seqs \n",
        "for col in seqs.T: # seqs.T => transpose row to column\n",
        "    col_seq.append(list(col)) # convert np.array to list\n",
        "    print('Column',(i+1),col_seq[i])\n",
        "    i+=1"
      ]
    },
    {
      "cell_type": "code",
      "execution_count": 5,
      "id": "884c1ef5",
      "metadata": {
        "colab": {
          "base_uri": "https://localhost:8080/"
        },
        "id": "884c1ef5",
        "outputId": "06a646e3-c07d-4292-d70e-7622c797f448"
      },
      "outputs": [
        {
          "output_type": "execute_result",
          "data": {
            "text/plain": [
              "{'A': [3, 6, 1, 0, 0, 6, 7, 2, 1],\n",
              " 'C': [2, 2, 1, 0, 0, 2, 1, 1, 2],\n",
              " 'G': [1, 1, 7, 10, 0, 1, 1, 5, 1],\n",
              " 'T': [4, 1, 1, 0, 10, 1, 1, 2, 6]}"
            ]
          },
          "metadata": {},
          "execution_count": 5
        }
      ],
      "source": [
        "\n",
        "PFM = {'A':[],'C':[],'G':[],'T':[]} \n",
        "\n",
        "for i in col_seq:\n",
        "    # Count A for each column \n",
        "    PFM['A'].append( i.count('A') )\n",
        "    # Count C \n",
        "    PFM['C'].append( i.count('C') )\n",
        "    # Count G \n",
        "    PFM['G'].append( i.count('G') )\n",
        "    # Count T\n",
        "    PFM['T'].append( i.count('T') )\n",
        "PFM"
      ]
    },
    {
      "cell_type": "code",
      "execution_count": 6,
      "id": "9c56d88a",
      "metadata": {
        "colab": {
          "base_uri": "https://localhost:8080/"
        },
        "id": "9c56d88a",
        "outputId": "c8a93980-7957-4391-df57-648e8d396fd2"
      },
      "outputs": [
        {
          "output_type": "execute_result",
          "data": {
            "text/plain": [
              "{'A': [0.3, 0.6, 0.1, 0.0, 0.0, 0.6, 0.7, 0.2, 0.1],\n",
              " 'C': [0.2, 0.2, 0.1, 0.0, 0.0, 0.2, 0.1, 0.1, 0.2],\n",
              " 'G': [0.1, 0.1, 0.7, 1.0, 0.0, 0.1, 0.1, 0.5, 0.1],\n",
              " 'T': [0.4, 0.1, 0.1, 0.0, 1.0, 0.1, 0.1, 0.2, 0.6]}"
            ]
          },
          "metadata": {},
          "execution_count": 6
        }
      ],
      "source": [
        "PPM = {'A':[],'C':[],'G':[],'T':[]} \n",
        "\n",
        "col_num = len(col_seq[0])\n",
        "\n",
        "# iterate through each key , value in the dict\n",
        "for k,v in PFM.items(): \n",
        "    # iterate through each num in the list values \n",
        "    for num in v:\n",
        "        if k == 'A':\n",
        "            PPM['A'].append(round(num/col_num,3))\n",
        "            \n",
        "        if k == 'C':\n",
        "            PPM['C'].append(round(num/col_num,3))\n",
        "        \n",
        "        if k == 'G':\n",
        "            PPM['G'].append(round(num/col_num,3))\n",
        "        \n",
        "        if k == 'T':\n",
        "            PPM['T'].append(round(num/col_num,3))\n",
        "PPM"
      ]
    },
    {
      "cell_type": "code",
      "execution_count": 7,
      "id": "075a0369",
      "metadata": {
        "colab": {
          "base_uri": "https://localhost:8080/"
        },
        "id": "075a0369",
        "outputId": "09d17d35-64e5-46a6-9cbf-12d1c3c04010"
      },
      "outputs": [
        {
          "output_type": "stream",
          "name": "stdout",
          "text": [
            "Probability = 0.0007056\n"
          ]
        }
      ],
      "source": [
        "seq = 'GAGGTAAAC' \n",
        "\n",
        "prob = 1\n",
        "for idx,value in enumerate(seq):\n",
        "    prob *= PPM[value][idx]\n",
        "\n",
        "prob = round(prob,8)\n",
        "print(f\"Probability = {prob}\")\n",
        "\n"
      ]
    },
    {
      "cell_type": "code",
      "execution_count": 8,
      "id": "a440f44e",
      "metadata": {
        "id": "a440f44e"
      },
      "outputs": [],
      "source": [
        "\n",
        "Mkj = []\n",
        "\n",
        "for v in PPM.values():\n",
        "    for num in v :\n",
        "        if float(num) > 0 :\n",
        "            Mkj.append(round(float(math.log2(num/0.25)) , 2))\n",
        "            \n",
        "        if float(num) < 0 :\n",
        "            Mkj.append('∞')\n",
        "        \n",
        "        if float(num) == 0:\n",
        "             Mkj.append('-∞')"
      ]
    },
    {
      "cell_type": "code",
      "execution_count": 9,
      "id": "902bec29",
      "metadata": {
        "colab": {
          "base_uri": "https://localhost:8080/"
        },
        "id": "902bec29",
        "outputId": "4ed4476a-05e1-4af3-c863-c9d71dd74d77"
      },
      "outputs": [
        {
          "output_type": "execute_result",
          "data": {
            "text/plain": [
              "{'A': [0.26, 1.26, -1.32, '-∞', '-∞', 1.26, 1.49, -0.32, -1.32],\n",
              " 'C': [-0.32, -0.32, -1.32, '-∞', '-∞', -0.32, -1.32, -1.32, -0.32],\n",
              " 'G': [-1.32, -1.32, 1.49, 2.0, '-∞', -1.32, -1.32, 1.0, -1.32],\n",
              " 'T': [0.68, -1.32, -1.32, '-∞', 2.0, -1.32, -1.32, -0.32, 1.26]}"
            ]
          },
          "metadata": {},
          "execution_count": 9
        }
      ],
      "source": [
        "Mkj = dict( zip(('A', 'C','G','T'), \n",
        "                ( Mkj[0: 0+len(PPM['A'])],  \n",
        "                  Mkj[9: 9+len(PPM['C'])],\n",
        "                  Mkj[18: 18+len(PPM['G'])],\n",
        "                  Mkj[27: 27+len(PPM['G'])],\n",
        "                ) \n",
        "               )\n",
        "          )\n",
        "Mkj"
      ]
    }
  ],
  "metadata": {
    "kernelspec": {
      "display_name": "Python 3 (ipykernel)",
      "language": "python",
      "name": "python3"
    },
    "language_info": {
      "codemirror_mode": {
        "name": "ipython",
        "version": 3
      },
      "file_extension": ".py",
      "mimetype": "text/x-python",
      "name": "python",
      "nbconvert_exporter": "python",
      "pygments_lexer": "ipython3",
      "version": "3.9.7"
    },
    "colab": {
      "name": "DNA-Matrix (2) (1).ipynb",
      "provenance": [],
      "include_colab_link": true
    }
  },
  "nbformat": 4,
  "nbformat_minor": 5
}