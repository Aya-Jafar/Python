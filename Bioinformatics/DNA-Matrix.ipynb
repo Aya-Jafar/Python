{
  "cells": [
    {
      "cell_type": "markdown",
      "metadata": {
        "id": "view-in-github",
        "colab_type": "text"
      },
      "source": [
        "<a href=\"https://colab.research.google.com/github/Aya-Jafar/Python/blob/main/Bioinformatics/DNA-Matrix.ipynb\" target=\"_parent\"><img src=\"https://colab.research.google.com/assets/colab-badge.svg\" alt=\"Open In Colab\"/></a>"
      ]
    },
    {
      "cell_type": "code",
      "execution_count": 1,
      "id": "ba951bd4",
      "metadata": {
        "id": "ba951bd4"
      },
      "outputs": [],
      "source": [
        "import math\n",
        "import numpy as np"
      ]
    },
    {
      "cell_type": "code",
      "execution_count": 2,
      "id": "bd2d8ea8",
      "metadata": {
        "id": "bd2d8ea8"
      },
      "outputs": [],
      "source": [
        "# Input sequences \n",
        "seqs = np.array([  \n",
        "        list('GAGGTAAAC'),\n",
        "        list('TCCGTAAGT'),\n",
        "        list('CAGGTTGGA'),\n",
        "        list('ACAGTCAGT'),\n",
        "        list('TAGGTCATT'),\n",
        "        list('TAGGTACTG'),\n",
        "        list('ATGGTAACT'),\n",
        "        list('CAGGTATAC'),\n",
        "        list('TGTGTGAGT'),\n",
        "        list('AAGGTAAGT')\n",
        "       ])"
      ]
    },
    {
      "cell_type": "code",
      "execution_count": 3,
      "id": "f424e1c7",
      "metadata": {
        "id": "f424e1c7",
        "outputId": "c4896e5c-2481-4146-c9f2-3bb189b0c8ae",
        "colab": {
          "base_uri": "https://localhost:8080/"
        }
      },
      "outputs": [
        {
          "output_type": "stream",
          "name": "stdout",
          "text": [
            "Column 1 ['G', 'T', 'C', 'A', 'T', 'T', 'A', 'C', 'T', 'A']\n",
            "Column 2 ['A', 'C', 'A', 'C', 'A', 'A', 'T', 'A', 'G', 'A']\n",
            "Column 3 ['G', 'C', 'G', 'A', 'G', 'G', 'G', 'G', 'T', 'G']\n",
            "Column 4 ['G', 'G', 'G', 'G', 'G', 'G', 'G', 'G', 'G', 'G']\n",
            "Column 5 ['T', 'T', 'T', 'T', 'T', 'T', 'T', 'T', 'T', 'T']\n",
            "Column 6 ['A', 'A', 'T', 'C', 'C', 'A', 'A', 'A', 'G', 'A']\n",
            "Column 7 ['A', 'A', 'G', 'A', 'A', 'C', 'A', 'T', 'A', 'A']\n",
            "Column 8 ['A', 'G', 'G', 'G', 'T', 'T', 'C', 'A', 'G', 'G']\n",
            "Column 9 ['C', 'T', 'A', 'T', 'T', 'G', 'T', 'C', 'T', 'T']\n"
          ]
        }
      ],
      "source": [
        "i = 0 \n",
        "col_seq = []\n",
        "# iterate through each column in seqs \n",
        "for col in seqs.T: # seqs.T => transpose row to column\n",
        "    col_seq.append(list(col)) # convert np.array to list\n",
        "    print('Column',(i+1),col_seq[i])\n",
        "    i+=1"
      ]
    },
    {
      "cell_type": "code",
      "execution_count": 4,
      "id": "884c1ef5",
      "metadata": {
        "id": "884c1ef5",
        "outputId": "7369aeae-1058-440f-97df-c8a52d3aeb63",
        "colab": {
          "base_uri": "https://localhost:8080/"
        }
      },
      "outputs": [
        {
          "output_type": "execute_result",
          "data": {
            "text/plain": [
              "{'A': [3, 6, 1, 0, 0, 6, 7, 2, 1],\n",
              " 'C': [2, 2, 1, 0, 0, 2, 1, 1, 2],\n",
              " 'G': [1, 1, 7, 10, 0, 1, 1, 5, 1],\n",
              " 'T': [4, 1, 1, 0, 10, 1, 1, 2, 6]}"
            ]
          },
          "metadata": {},
          "execution_count": 4
        }
      ],
      "source": [
        "\n",
        "PFM = {'A':[],'C':[],'G':[],'T':[]} \n",
        "\n",
        "for i in col_seq:\n",
        "    # Count A for each column \n",
        "    PFM['A'].append( i.count('A') )\n",
        "    # Count C \n",
        "    PFM['C'].append( i.count('C') )\n",
        "    # Count G \n",
        "    PFM['G'].append( i.count('G') )\n",
        "    # Count T\n",
        "    PFM['T'].append( i.count('T') )\n",
        "PFM"
      ]
    },
    {
      "cell_type": "code",
      "execution_count": 5,
      "id": "9c56d88a",
      "metadata": {
        "id": "9c56d88a",
        "outputId": "0d4635cd-8805-4a02-f9b6-4e0a163d157c",
        "colab": {
          "base_uri": "https://localhost:8080/"
        }
      },
      "outputs": [
        {
          "output_type": "execute_result",
          "data": {
            "text/plain": [
              "{'A': [0.3, 0.6, 0.1, 0.0, 0.0, 0.6, 0.7, 0.2, 0.1],\n",
              " 'C': [0.2, 0.2, 0.1, 0.0, 0.0, 0.2, 0.1, 0.1, 0.2],\n",
              " 'G': [0.1, 0.1, 0.7, 1.0, 0.0, 0.1, 0.1, 0.5, 0.1],\n",
              " 'T': [0.4, 0.1, 0.1, 0.0, 1.0, 0.1, 0.1, 0.2, 0.6]}"
            ]
          },
          "metadata": {},
          "execution_count": 5
        }
      ],
      "source": [
        "PPM = {'A':[],'C':[],'G':[],'T':[]} \n",
        "\n",
        "col_num = len(col_seq[0])\n",
        "\n",
        "# iterate through each key , value in the dict\n",
        "for k,v in PFM.items(): \n",
        "    # iterate through each num in the list values \n",
        "    for num in v:\n",
        "        if k == 'A':\n",
        "            PPM['A'].append(round(num/col_num,3))\n",
        "            \n",
        "        if k == 'C':\n",
        "            PPM['C'].append(round(num/col_num,3))\n",
        "        \n",
        "        if k == 'G':\n",
        "            PPM['G'].append(round(num/col_num,3))\n",
        "        \n",
        "        if k == 'T':\n",
        "            PPM['T'].append(round(num/col_num,3))\n",
        "PPM"
      ]
    },
    {
      "cell_type": "code",
      "execution_count": 16,
      "id": "075a0369",
      "metadata": {
        "id": "075a0369",
        "outputId": "2cd34a3b-ce54-4e3e-b53a-26c8b81c4f01",
        "colab": {
          "base_uri": "https://localhost:8080/"
        }
      },
      "outputs": [
        {
          "output_type": "stream",
          "name": "stdout",
          "text": [
            "Enter the sequence :\n",
            "GAGGTAAACC\n",
            "The length of the input sequence should be equel to the PPM matrix\n",
            "Enter the sequence :\n",
            "GAGGTAAAC\n",
            "Probability = 0.0007056\n"
          ]
        }
      ],
      "source": [
        "# s1 = 'GAGGTAAAC' \n",
        "# s2 = 'GAGTTAAAC'\n",
        "def find_probibility(PPM,seq_input):\n",
        "    prob = 1\n",
        "    if len(seq_input) != len(PPM['A']):\n",
        "      return 'The length of the input sequence should be equel to the PPM columns'\n",
        "\n",
        "    for idx,value in enumerate(seq_input):\n",
        "        if value not in 'ATCG':\n",
        "            return 'Not a valid sequence'\n",
        "        prob *= PPM[value][idx]\n",
        "\n",
        "    prob = round(prob,8)\n",
        "    print(\"Probability = \",end='')\n",
        "    return prob\n",
        "  \n",
        "\n",
        "p1 = find_probibility(PPM,input(\"Enter the sequence :\\n\"))\n",
        "print(p1)\n",
        "p2 = find_probibility(PPM,input(\"Enter the sequence :\\n\"))\n",
        "print(p2)"
      ]
    },
    {
      "cell_type": "code",
      "execution_count": null,
      "id": "a440f44e",
      "metadata": {
        "id": "a440f44e"
      },
      "outputs": [],
      "source": [
        "\n",
        "Mkj = []\n",
        "\n",
        "for v in PPM.values():\n",
        "    for num in v :\n",
        "        if float(num) > 0 :\n",
        "            Mkj.append(round(float(math.log2(num/0.25)) , 2))\n",
        "            \n",
        "        if float(num) < 0 :\n",
        "            Mkj.append('∞')\n",
        "        \n",
        "        if float(num) == 0:\n",
        "             Mkj.append('-∞')"
      ]
    },
    {
      "cell_type": "code",
      "execution_count": null,
      "id": "902bec29",
      "metadata": {
        "id": "902bec29",
        "outputId": "8963b110-bbab-471f-f731-5e8b1a8904e2",
        "colab": {
          "base_uri": "https://localhost:8080/"
        }
      },
      "outputs": [
        {
          "output_type": "execute_result",
          "data": {
            "text/plain": [
              "{'A': [0.26, 1.26, -1.32, '-∞', '-∞', 1.26, 1.49, -0.32, -1.32],\n",
              " 'C': [-0.32, -0.32, -1.32, '-∞', '-∞', -0.32, -1.32, -1.32, -0.32],\n",
              " 'G': [-1.32, -1.32, 1.49, 2.0, '-∞', -1.32, -1.32, 1.0, -1.32],\n",
              " 'T': [0.68, -1.32, -1.32, '-∞', 2.0, -1.32, -1.32, -0.32, 1.26]}"
            ]
          },
          "metadata": {},
          "execution_count": 8
        }
      ],
      "source": [
        "Mkj = dict( zip(('A', 'C','G','T'), \n",
        "                ( Mkj[0: 0+len(PPM['A'])],  \n",
        "                  Mkj[9: 9+len(PPM['C'])],\n",
        "                  Mkj[18: 18+len(PPM['G'])],\n",
        "                  Mkj[27: 27+len(PPM['G'])],\n",
        "                ) \n",
        "               )\n",
        "          )\n",
        "Mkj"
      ]
    }
  ],
  "metadata": {
    "kernelspec": {
      "display_name": "Python 3 (ipykernel)",
      "language": "python",
      "name": "python3"
    },
    "language_info": {
      "codemirror_mode": {
        "name": "ipython",
        "version": 3
      },
      "file_extension": ".py",
      "mimetype": "text/x-python",
      "name": "python",
      "nbconvert_exporter": "python",
      "pygments_lexer": "ipython3",
      "version": "3.9.7"
    },
    "colab": {
      "name": "DNA-Matrix (2) (1).ipynb",
      "provenance": [],
      "include_colab_link": true
    }
  },
  "nbformat": 4,
  "nbformat_minor": 5
}