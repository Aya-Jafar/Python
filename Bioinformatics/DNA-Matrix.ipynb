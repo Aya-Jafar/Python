{
 "cells": [
  {
   "cell_type": "code",
   "execution_count": 112,
   "id": "ba951bd4",
   "metadata": {},
   "outputs": [],
   "source": [
    "import math\n",
    "import numpy as np"
   ]
  },
  {
   "cell_type": "code",
   "execution_count": 221,
   "id": "bd2d8ea8",
   "metadata": {},
   "outputs": [],
   "source": [
    "# Input sequences \n",
    "seqs = np.array([  \n",
    "        list('ACTG'),\n",
    "        list('ATCG'),\n",
    "        list('CTGG'),\n",
    "       ])"
   ]
  },
  {
   "cell_type": "code",
   "execution_count": 114,
   "id": "f424e1c7",
   "metadata": {},
   "outputs": [
    {
     "name": "stdout",
     "output_type": "stream",
     "text": [
      "Column 1 ['A', 'A', 'C']\n",
      "Column 2 ['C', 'T', 'T']\n",
      "Column 3 ['T', 'C', 'G']\n",
      "Column 4 ['G', 'G', 'G']\n"
     ]
    }
   ],
   "source": [
    "\n",
    "i = 0 \n",
    "col_seq = []\n",
    "# iterate through each column in seqs \n",
    "for col in seqs.T: # seqs.T => transpose row to column\n",
    "    col_seq.append(list(col)) # convert np.array to list\n",
    "    print('Column',(i+1),col_seq[i])\n",
    "    i+=1"
   ]
  },
  {
   "cell_type": "code",
   "execution_count": 241,
   "id": "789a9ac9",
   "metadata": {},
   "outputs": [],
   "source": [
    "\n",
    "nucloetide_matrix = dict() # PFM\n",
    "\n",
    "col_num = 1\n",
    "for i in col_seq:\n",
    "    # Count Nitrogen bases for each column\n",
    "    nucloetide_matrix[\"Column \"+str(col_num)]= [i.count('A'),i.count('C'),i.count('G'),i.count('T')]\n",
    "    col_num += 1"
   ]
  },
  {
   "cell_type": "code",
   "execution_count": 237,
   "id": "934ddac9",
   "metadata": {
    "scrolled": true
   },
   "outputs": [
    {
     "name": "stdout",
     "output_type": "stream",
     "text": [
      "\t    A  C  G  T\n",
      "\t  _______________ \n",
      "\n",
      "Column 1   [2, 1, 0, 0] \n",
      "\n",
      "Column 2   [0, 1, 0, 2] \n",
      "\n",
      "Column 3   [0, 1, 1, 1] \n",
      "\n",
      "Column 4   [0, 0, 3, 0] \n",
      "\n",
      "[0.667, 0.333, 0.0, 0.0, 0.0, 0.333, 0.0, 0.667, 0.0, 0.333, 0.333, 0.333, 0.0, 0.0, 1.0, 0.0]\n"
     ]
    }
   ],
   "source": [
    "print(\"\\t    A  C  G  T\\n\\t  \"+\"_\"*15,'\\n')\n",
    "percents =[]\n",
    "col_num = len(col_seq[0])\n",
    "\n",
    "for k,v in nucloetide_matrix.items(): \n",
    "    print(k,\" \",v,'\\n')\n",
    "    for item in v :\n",
    "        percents.append(round((item/col_num),3))\n",
    "        \n",
    "\n",
    "print(percents)"
   ]
  },
  {
   "cell_type": "code",
   "execution_count": 243,
   "id": "41242e2e",
   "metadata": {},
   "outputs": [
    {
     "data": {
      "text/plain": [
       "[('A', [0.667, 0.333, 0.0, 0.0]),\n",
       " ('C', [0.0, 0.333, 0.0, 0.667]),\n",
       " ('G', [0.0, 0.333, 0.333, 0.333]),\n",
       " ('T', [0.0, 0.0, 1.0, 0.0])]"
      ]
     },
     "execution_count": 243,
     "metadata": {},
     "output_type": "execute_result"
    }
   ],
   "source": [
    "PPM = {}\n",
    "row_num = len(seqs[0])\n",
    "\n",
    "for i in range(0,len(percents),row_num):\n",
    "    PPM[i] = percents[i:i+row_num]\n",
    "\n",
    "new_key = ['A','C','G','T']\n",
    "\n",
    "j = 0\n",
    "for i in new_key: \n",
    "    PPM[i] = PPM.pop(j)\n",
    "    j+=len(seqs[0])\n",
    "    \n",
    "[(k,v) for k,v in PPM.items()] \n"
   ]
  },
  {
   "cell_type": "code",
   "execution_count": 246,
   "id": "075a0369",
   "metadata": {},
   "outputs": [
    {
     "name": "stdout",
     "output_type": "stream",
     "text": [
      "0.07396296300000002\n"
     ]
    }
   ],
   "source": [
    "seq = 'ACTG' \n",
    "\n",
    "prob = 1\n",
    "for idx,value in enumerate(seq):\n",
    "    prob *= PPM[value][idx]\n",
    "print(prob)\n",
    "\n"
   ]
  },
  {
   "cell_type": "code",
   "execution_count": 247,
   "id": "22e3f429",
   "metadata": {},
   "outputs": [
    {
     "data": {
      "text/plain": [
       "[[1.416, 0.414, '∞', '∞'],\n",
       " ['∞', 0.414, '∞', 1.416],\n",
       " ['∞', 0.414, 0.414, 0.414],\n",
       " ['∞', '∞', 2.0, '∞']]"
      ]
     },
     "execution_count": 247,
     "metadata": {},
     "output_type": "execute_result"
    }
   ],
   "source": [
    "Mkj = []\n",
    "for i in percents:\n",
    "    if i > 0 : # for avoiding 0/0 error\n",
    "        # Mkj= Log2(percent of each Nitrogen base / 0.25)\n",
    "        Mkj.append(round(math.log2(i/0.25),3))\n",
    "    elif i < 0 :\n",
    "        Mkj.append('-∞')\n",
    "    else:\n",
    "        Mkj.append('∞')\n",
    "\n",
    "[(Mkj[i:i+4]) for i in range(0,len(Mkj),4)]"
   ]
  },
  {
   "cell_type": "code",
   "execution_count": null,
   "id": "079862da",
   "metadata": {},
   "outputs": [],
   "source": []
  },
  {
   "cell_type": "code",
   "execution_count": null,
   "id": "0dac0ce1",
   "metadata": {},
   "outputs": [],
   "source": []
  }
 ],
 "metadata": {
  "kernelspec": {
   "display_name": "Python 3 (ipykernel)",
   "language": "python",
   "name": "python3"
  },
  "language_info": {
   "codemirror_mode": {
    "name": "ipython",
    "version": 3
   },
   "file_extension": ".py",
   "mimetype": "text/x-python",
   "name": "python",
   "nbconvert_exporter": "python",
   "pygments_lexer": "ipython3",
   "version": "3.9.7"
  }
 },
 "nbformat": 4,
 "nbformat_minor": 5
}
