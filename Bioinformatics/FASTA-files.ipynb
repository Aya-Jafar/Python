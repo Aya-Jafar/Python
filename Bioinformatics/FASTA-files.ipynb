{
  "nbformat": 4,
  "nbformat_minor": 0,
  "metadata": {
    "colab": {
      "name": "FASTA-files.ipynb",
      "provenance": [],
      "collapsed_sections": [],
      "authorship_tag": "ABX9TyMBnpMx2OLjISumyPj1alMl",
      "include_colab_link": true
    },
    "kernelspec": {
      "name": "python3",
      "display_name": "Python 3"
    },
    "language_info": {
      "name": "python"
    }
  },
  "cells": [
    {
      "cell_type": "markdown",
      "metadata": {
        "id": "view-in-github",
        "colab_type": "text"
      },
      "source": [
        "<a href=\"https://colab.research.google.com/github/Aya-Jafar/Python/blob/main/Bioinformatics/FASTA-files.ipynb\" target=\"_parent\"><img src=\"https://colab.research.google.com/assets/colab-badge.svg\" alt=\"Open In Colab\"/></a>"
      ]
    },
    {
      "cell_type": "code",
      "source": [
        "! pip install Bio"
      ],
      "metadata": {
        "colab": {
          "base_uri": "https://localhost:8080/"
        },
        "id": "j-Y-2RsLGAli",
        "outputId": "6c94f5e1-6802-4523-961e-407b01a02e9c"
      },
      "execution_count": null,
      "outputs": [
        {
          "output_type": "stream",
          "name": "stdout",
          "text": [
            "Looking in indexes: https://pypi.org/simple, https://us-python.pkg.dev/colab-wheels/public/simple/\n",
            "Collecting Bio\n",
            "  Downloading bio-1.3.8-py3-none-any.whl (269 kB)\n",
            "\u001b[K     |████████████████████████████████| 269 kB 10.1 MB/s \n",
            "\u001b[?25hRequirement already satisfied: requests in /usr/local/lib/python3.7/dist-packages (from Bio) (2.23.0)\n",
            "Requirement already satisfied: tqdm in /usr/local/lib/python3.7/dist-packages (from Bio) (4.64.0)\n",
            "Collecting mygene\n",
            "  Downloading mygene-3.2.2-py2.py3-none-any.whl (5.4 kB)\n",
            "Collecting biopython>=1.79\n",
            "  Downloading biopython-1.79-cp37-cp37m-manylinux_2_5_x86_64.manylinux1_x86_64.whl (2.3 MB)\n",
            "\u001b[K     |████████████████████████████████| 2.3 MB 40.7 MB/s \n",
            "\u001b[?25hRequirement already satisfied: numpy in /usr/local/lib/python3.7/dist-packages (from biopython>=1.79->Bio) (1.21.6)\n",
            "Collecting biothings-client>=0.2.6\n",
            "  Downloading biothings_client-0.2.6-py2.py3-none-any.whl (37 kB)\n",
            "Requirement already satisfied: idna<3,>=2.5 in /usr/local/lib/python3.7/dist-packages (from requests->Bio) (2.10)\n",
            "Requirement already satisfied: certifi>=2017.4.17 in /usr/local/lib/python3.7/dist-packages (from requests->Bio) (2022.5.18.1)\n",
            "Requirement already satisfied: urllib3!=1.25.0,!=1.25.1,<1.26,>=1.21.1 in /usr/local/lib/python3.7/dist-packages (from requests->Bio) (1.24.3)\n",
            "Requirement already satisfied: chardet<4,>=3.0.2 in /usr/local/lib/python3.7/dist-packages (from requests->Bio) (3.0.4)\n",
            "Installing collected packages: biothings-client, mygene, biopython, Bio\n",
            "Successfully installed Bio-1.3.8 biopython-1.79 biothings-client-0.2.6 mygene-3.2.2\n"
          ]
        }
      ]
    },
    {
      "cell_type": "code",
      "source": [
        "from Bio import SeqIO\n",
        "import pandas \n",
        "import os"
      ],
      "metadata": {
        "id": "jdUglaxWF_Ao"
      },
      "execution_count": null,
      "outputs": []
    },
    {
      "cell_type": "code",
      "source": [
        "orignfile = '/content/rosalind_gc (3).txt'"
      ],
      "metadata": {
        "id": "aeegpUQ96p44"
      },
      "execution_count": null,
      "outputs": []
    },
    {
      "cell_type": "code",
      "source": [
        "\n",
        "seq_objects=SeqIO.parse(orignfile,'fasta')\n",
        "\n",
        "sequences=[seq for seq in seq_objects]\n",
        "\n",
        "sequences"
      ],
      "metadata": {
        "colab": {
          "base_uri": "https://localhost:8080/"
        },
        "id": "_PWzRkHXGF2h",
        "outputId": "8de6f782-66cf-4a60-9cb2-758760da2e02"
      },
      "execution_count": null,
      "outputs": [
        {
          "output_type": "execute_result",
          "data": {
            "text/plain": [
              "[SeqRecord(seq=Seq('TCACAGCGCCATAGGCCGGTAAGCTGCGGCTCGTCGCACTGCTCCCGTAGCTCG...GTG'), id='Rosalind_3712', name='Rosalind_3712', description='Rosalind_3712', dbxrefs=[]),\n",
              " SeqRecord(seq=Seq('AACCAAATGCGGAATTTATTAATTTTCGAGTGAGAGATCTTAATAGCGGTCTGC...GAA'), id='Rosalind_0163', name='Rosalind_0163', description='Rosalind_0163', dbxrefs=[]),\n",
              " SeqRecord(seq=Seq('CATAGTGGTCACAACGTGGTACACGTTCGTCTGCCTCGCTCGATGCTTAGACCT...AGA'), id='Rosalind_2161', name='Rosalind_2161', description='Rosalind_2161', dbxrefs=[]),\n",
              " SeqRecord(seq=Seq('TCTCGGAGTACAGACTTAACATTCGACAACGAACACTCCGGGTGGTAAGTATGT...GGG'), id='Rosalind_0024', name='Rosalind_0024', description='Rosalind_0024', dbxrefs=[]),\n",
              " SeqRecord(seq=Seq('CTCCGATCCGCTACGGACGTTATAGAGAACCGTGCGTGCCTATATGAGTATAAT...ACG'), id='Rosalind_6225', name='Rosalind_6225', description='Rosalind_6225', dbxrefs=[]),\n",
              " SeqRecord(seq=Seq('TAAATCGCAATTATGTAACTCTTCTCACCGTTGGAGACATCGTCCCTGGTGGCG...GTT'), id='Rosalind_8687', name='Rosalind_8687', description='Rosalind_8687', dbxrefs=[]),\n",
              " SeqRecord(seq=Seq('GTAGGCTCTGGTTCTTGGAAGTCTGATTTTTTCTGGAACAGAGCGGCCCGCGCT...AAC'), id='Rosalind_5472', name='Rosalind_5472', description='Rosalind_5472', dbxrefs=[])]"
            ]
          },
          "metadata": {},
          "execution_count": 160
        }
      ]
    },
    {
      "cell_type": "code",
      "source": [
        "ids_and_seqs = {seq.id : seq.seq for seq in sequences }\n",
        "\n",
        "ids_and_seqs['Rosalind_3712']"
      ],
      "metadata": {
        "colab": {
          "base_uri": "https://localhost:8080/"
        },
        "id": "2j6Vqk8JG0Uv",
        "outputId": "63ccfa27-614d-49d6-9600-dedfa6e113c7"
      },
      "execution_count": null,
      "outputs": [
        {
          "output_type": "execute_result",
          "data": {
            "text/plain": [
              "Seq('TCACAGCGCCATAGGCCGGTAAGCTGCGGCTCGTCGCACTGCTCCCGTAGCTCG...GTG')"
            ]
          },
          "metadata": {},
          "execution_count": 122
        }
      ]
    },
    {
      "cell_type": "code",
      "source": [
        "CG_content = 0\n",
        "max_CG = 0\n",
        "for id,seq in ids_and_seqs.items():\n",
        "  CG_content = (seq.count('G')+seq.count('C'))/len(seq)*100 \n",
        "\n",
        " # print(id,'\\t', CG_content )\n",
        "  \n",
        "  if CG_content > max_CG :\n",
        "    print('ID of the max CG content :')\n",
        "    max_CG = CG_content\n",
        "    \n",
        "    print(id,'\\t',round(max_CG,6))\n",
        "    break\n"
      ],
      "metadata": {
        "colab": {
          "base_uri": "https://localhost:8080/"
        },
        "id": "CwJKn_W-HzRE",
        "outputId": "ebcce373-7757-43bd-fc11-2fd5c01698c1"
      },
      "execution_count": null,
      "outputs": [
        {
          "output_type": "stream",
          "name": "stdout",
          "text": [
            "ID of the max CG content :\n",
            "Rosalind_3712 \t 53.156823\n"
          ]
        }
      ]
    }
  ]
}